{
 "cells": [
  {
   "cell_type": "markdown",
   "metadata": {},
   "source": [
    "# BusinessCase : LoanTap - Logistic Regression"
   ]
  },
  {
   "cell_type": "markdown",
   "metadata": {},
   "source": [
    "### OverView of LoanTap:\n",
    "\n",
    "LoanTap is an online platform committed to delivering customized loan products to millennials. They innovate in an otherwise dull loan segment, to deliver instant, flexible loans on consumer friendly terms to salaried professionals and businessmen.\n",
    "\n",
    "The data science team at LoanTap is building an underwriting layer to determine the creditworthiness of MSMEs as well as individuals.\n",
    "\n",
    "LoanTap deploys formal credit to salaried individuals and businesses 4 main financial instruments:\n",
    "\n",
    "Personal Loan\n",
    "EMI Free Loan\n",
    "Personal Overdraft\n",
    "Advance Salary Loan\n",
    "This case study will focus on the underwriting process behind Personal Loan only"
   ]
  },
  {
   "cell_type": "markdown",
   "metadata": {},
   "source": [
    "DataLink:\n",
    "    \n",
    "    https://drive.google.com/file/d/1ZPYj7CZCfxntE8p2Lze_4QO4MyEOy6_d/view"
   ]
  },
  {
   "cell_type": "markdown",
   "metadata": {},
   "source": [
    "Data Dictionary:\n",
    "    \n",
    "    loan_amnt : The listed amount of the loan applied for by the borrower. If at some point in time, the credit department reduces the loan amount, then it will be reflected in this value.\n",
    "    term : The number of payments on the loan. Values are in months and can be either 36 or 60.\n",
    "    int_rate : Interest Rate on the loan\n",
    "    installment : The monthly payment owed by the borrower if the loan originates.\n",
    "    grade : LoanTap assigned loan grade\n",
    "    sub_grade : LoanTap assigned loan subgrade\n",
    "    emp_title :The job title supplied by the Borrower when applying for the loan.*\n",
    "    emp_length : Employment length in years. Possible values are between 0 and 10 where 0 means less than one year and 10 means ten or more years.\n",
    "    home_ownership : The home ownership status provided by the borrower during registration or obtained from the credit report.\n",
    "    annual_inc : The self-reported annual income provided by the borrower during registration.\n",
    "    verification_status : Indicates if income was verified by LoanTap, not verified, or if the income source was verified\n",
    "    issue_d : The month which the loan was funded\n",
    "    loan_status : Current status of the loan - Target Variable\n",
    "    purpose : A category provided by the borrower for the loan request.\n",
    "    title : The loan title provided by the borrower\n",
    "    dti : A ratio calculated using the borrower’s total monthly debt payments on the total debt obligations, excluding mortgage and the requested LoanTap loan, divided by the borrower’s self-reported monthly income.\n",
    "    earliest_cr_line :The month the borrower's earliest reported credit line was opened\n",
    "    open_acc : The number of open credit lines in the borrower's credit file.\n",
    "    pub_rec : Number of derogatory public records\n",
    "    revol_bal : Total credit revolving balance\n",
    "    revol_util : Revolving line utilization rate, or the amount of credit the borrower is using relative to all available revolving credit.\n",
    "    total_acc : The total number of credit lines currently in the borrower's credit file\n",
    "    initial_list_status : The initial listing status of the loan. Possible values are – W, F\n",
    "    application_type : Indicates whether the loan is an individual application or a joint application with two co-borrowers\n",
    "    mort_acc : Number of mortgage accounts.\n",
    "    pub_rec_bankruptcies : Number of public record bankruptcies\n",
    "    Address: Address of the individual"
   ]
  },
  {
   "cell_type": "markdown",
   "metadata": {},
   "source": [
    "### Problem Statement:\n",
    "\n",
    "Given a set of attributes for an Individual, determine if a credit line should be extended to them. \n",
    "If so, what should the repayment terms be in business recommendations?"
   ]
  },
  {
   "cell_type": "code",
   "execution_count": 65,
   "metadata": {},
   "outputs": [],
   "source": [
    "#Data processing\n",
    "import numpy as np\n",
    "import pandas as pd\n",
    "\n",
    "#Data Visualisation\n",
    "import matplotlib.pyplot as plt\n",
    "import seaborn as sns\n",
    "\n",
    "#Stats & model building\n",
    "from sklearn.preprocessing import MinMaxScaler\n",
    "from sklearn.linear_model import LogisticRegression\n",
    "from sklearn.preprocessing import OneHotEncoder\n",
    "from sklearn.metrics import (accuracy_score, confusion_matrix,\n",
    "                             roc_curve, auc, ConfusionMatrixDisplay,\n",
    "                             f1_score, recall_score,\n",
    "                             precision_score, precision_recall_curve,\n",
    "                             average_precision_score, classification_report)\n",
    "from statsmodels.stats.outliers_influence import variance_inflation_factor\n",
    "from sklearn.model_selection import train_test_split\n",
    "from imblearn.over_sampling import SMOTE\n",
    "\n",
    "#Hide warnings\n",
    "import warnings\n",
    "warnings.filterwarnings(\"ignore\")"
   ]
  },
  {
   "cell_type": "markdown",
   "metadata": {},
   "source": [
    "### Loading LoanTap data"
   ]
  },
  {
   "cell_type": "code",
   "execution_count": 4,
   "metadata": {},
   "outputs": [],
   "source": [
    "#Loading LoanTap data\n",
    "data = pd.read_csv('logistic_regression.csv')"
   ]
  },
  {
   "cell_type": "code",
   "execution_count": 5,
   "metadata": {},
   "outputs": [
    {
     "data": {
      "text/html": [
       "<div>\n",
       "<style scoped>\n",
       "    .dataframe tbody tr th:only-of-type {\n",
       "        vertical-align: middle;\n",
       "    }\n",
       "\n",
       "    .dataframe tbody tr th {\n",
       "        vertical-align: top;\n",
       "    }\n",
       "\n",
       "    .dataframe thead th {\n",
       "        text-align: right;\n",
       "    }\n",
       "</style>\n",
       "<table border=\"1\" class=\"dataframe\">\n",
       "  <thead>\n",
       "    <tr style=\"text-align: right;\">\n",
       "      <th></th>\n",
       "      <th>loan_amnt</th>\n",
       "      <th>term</th>\n",
       "      <th>int_rate</th>\n",
       "      <th>installment</th>\n",
       "      <th>grade</th>\n",
       "      <th>sub_grade</th>\n",
       "      <th>emp_title</th>\n",
       "      <th>emp_length</th>\n",
       "      <th>home_ownership</th>\n",
       "      <th>annual_inc</th>\n",
       "      <th>...</th>\n",
       "      <th>open_acc</th>\n",
       "      <th>pub_rec</th>\n",
       "      <th>revol_bal</th>\n",
       "      <th>revol_util</th>\n",
       "      <th>total_acc</th>\n",
       "      <th>initial_list_status</th>\n",
       "      <th>application_type</th>\n",
       "      <th>mort_acc</th>\n",
       "      <th>pub_rec_bankruptcies</th>\n",
       "      <th>address</th>\n",
       "    </tr>\n",
       "  </thead>\n",
       "  <tbody>\n",
       "    <tr>\n",
       "      <th>0</th>\n",
       "      <td>10000.0</td>\n",
       "      <td>36 months</td>\n",
       "      <td>11.44</td>\n",
       "      <td>329.48</td>\n",
       "      <td>B</td>\n",
       "      <td>B4</td>\n",
       "      <td>Marketing</td>\n",
       "      <td>10+ years</td>\n",
       "      <td>RENT</td>\n",
       "      <td>117000.0</td>\n",
       "      <td>...</td>\n",
       "      <td>16.0</td>\n",
       "      <td>0.0</td>\n",
       "      <td>36369.0</td>\n",
       "      <td>41.8</td>\n",
       "      <td>25.0</td>\n",
       "      <td>w</td>\n",
       "      <td>INDIVIDUAL</td>\n",
       "      <td>0.0</td>\n",
       "      <td>0.0</td>\n",
       "      <td>0174 Michelle Gateway\\r\\nMendozaberg, OK 22690</td>\n",
       "    </tr>\n",
       "    <tr>\n",
       "      <th>1</th>\n",
       "      <td>8000.0</td>\n",
       "      <td>36 months</td>\n",
       "      <td>11.99</td>\n",
       "      <td>265.68</td>\n",
       "      <td>B</td>\n",
       "      <td>B5</td>\n",
       "      <td>Credit analyst</td>\n",
       "      <td>4 years</td>\n",
       "      <td>MORTGAGE</td>\n",
       "      <td>65000.0</td>\n",
       "      <td>...</td>\n",
       "      <td>17.0</td>\n",
       "      <td>0.0</td>\n",
       "      <td>20131.0</td>\n",
       "      <td>53.3</td>\n",
       "      <td>27.0</td>\n",
       "      <td>f</td>\n",
       "      <td>INDIVIDUAL</td>\n",
       "      <td>3.0</td>\n",
       "      <td>0.0</td>\n",
       "      <td>1076 Carney Fort Apt. 347\\r\\nLoganmouth, SD 05113</td>\n",
       "    </tr>\n",
       "    <tr>\n",
       "      <th>2</th>\n",
       "      <td>15600.0</td>\n",
       "      <td>36 months</td>\n",
       "      <td>10.49</td>\n",
       "      <td>506.97</td>\n",
       "      <td>B</td>\n",
       "      <td>B3</td>\n",
       "      <td>Statistician</td>\n",
       "      <td>&lt; 1 year</td>\n",
       "      <td>RENT</td>\n",
       "      <td>43057.0</td>\n",
       "      <td>...</td>\n",
       "      <td>13.0</td>\n",
       "      <td>0.0</td>\n",
       "      <td>11987.0</td>\n",
       "      <td>92.2</td>\n",
       "      <td>26.0</td>\n",
       "      <td>f</td>\n",
       "      <td>INDIVIDUAL</td>\n",
       "      <td>0.0</td>\n",
       "      <td>0.0</td>\n",
       "      <td>87025 Mark Dale Apt. 269\\r\\nNew Sabrina, WV 05113</td>\n",
       "    </tr>\n",
       "    <tr>\n",
       "      <th>3</th>\n",
       "      <td>7200.0</td>\n",
       "      <td>36 months</td>\n",
       "      <td>6.49</td>\n",
       "      <td>220.65</td>\n",
       "      <td>A</td>\n",
       "      <td>A2</td>\n",
       "      <td>Client Advocate</td>\n",
       "      <td>6 years</td>\n",
       "      <td>RENT</td>\n",
       "      <td>54000.0</td>\n",
       "      <td>...</td>\n",
       "      <td>6.0</td>\n",
       "      <td>0.0</td>\n",
       "      <td>5472.0</td>\n",
       "      <td>21.5</td>\n",
       "      <td>13.0</td>\n",
       "      <td>f</td>\n",
       "      <td>INDIVIDUAL</td>\n",
       "      <td>0.0</td>\n",
       "      <td>0.0</td>\n",
       "      <td>823 Reid Ford\\r\\nDelacruzside, MA 00813</td>\n",
       "    </tr>\n",
       "    <tr>\n",
       "      <th>4</th>\n",
       "      <td>24375.0</td>\n",
       "      <td>60 months</td>\n",
       "      <td>17.27</td>\n",
       "      <td>609.33</td>\n",
       "      <td>C</td>\n",
       "      <td>C5</td>\n",
       "      <td>Destiny Management Inc.</td>\n",
       "      <td>9 years</td>\n",
       "      <td>MORTGAGE</td>\n",
       "      <td>55000.0</td>\n",
       "      <td>...</td>\n",
       "      <td>13.0</td>\n",
       "      <td>0.0</td>\n",
       "      <td>24584.0</td>\n",
       "      <td>69.8</td>\n",
       "      <td>43.0</td>\n",
       "      <td>f</td>\n",
       "      <td>INDIVIDUAL</td>\n",
       "      <td>1.0</td>\n",
       "      <td>0.0</td>\n",
       "      <td>679 Luna Roads\\r\\nGreggshire, VA 11650</td>\n",
       "    </tr>\n",
       "  </tbody>\n",
       "</table>\n",
       "<p>5 rows × 27 columns</p>\n",
       "</div>"
      ],
      "text/plain": [
       "   loan_amnt        term  int_rate  installment grade sub_grade  \\\n",
       "0    10000.0   36 months     11.44       329.48     B        B4   \n",
       "1     8000.0   36 months     11.99       265.68     B        B5   \n",
       "2    15600.0   36 months     10.49       506.97     B        B3   \n",
       "3     7200.0   36 months      6.49       220.65     A        A2   \n",
       "4    24375.0   60 months     17.27       609.33     C        C5   \n",
       "\n",
       "                 emp_title emp_length home_ownership  annual_inc  ...  \\\n",
       "0                Marketing  10+ years           RENT    117000.0  ...   \n",
       "1          Credit analyst     4 years       MORTGAGE     65000.0  ...   \n",
       "2             Statistician   < 1 year           RENT     43057.0  ...   \n",
       "3          Client Advocate    6 years           RENT     54000.0  ...   \n",
       "4  Destiny Management Inc.    9 years       MORTGAGE     55000.0  ...   \n",
       "\n",
       "  open_acc pub_rec revol_bal revol_util total_acc  initial_list_status  \\\n",
       "0     16.0     0.0   36369.0       41.8      25.0                    w   \n",
       "1     17.0     0.0   20131.0       53.3      27.0                    f   \n",
       "2     13.0     0.0   11987.0       92.2      26.0                    f   \n",
       "3      6.0     0.0    5472.0       21.5      13.0                    f   \n",
       "4     13.0     0.0   24584.0       69.8      43.0                    f   \n",
       "\n",
       "  application_type  mort_acc  pub_rec_bankruptcies  \\\n",
       "0       INDIVIDUAL       0.0                   0.0   \n",
       "1       INDIVIDUAL       3.0                   0.0   \n",
       "2       INDIVIDUAL       0.0                   0.0   \n",
       "3       INDIVIDUAL       0.0                   0.0   \n",
       "4       INDIVIDUAL       1.0                   0.0   \n",
       "\n",
       "                                             address  \n",
       "0     0174 Michelle Gateway\\r\\nMendozaberg, OK 22690  \n",
       "1  1076 Carney Fort Apt. 347\\r\\nLoganmouth, SD 05113  \n",
       "2  87025 Mark Dale Apt. 269\\r\\nNew Sabrina, WV 05113  \n",
       "3            823 Reid Ford\\r\\nDelacruzside, MA 00813  \n",
       "4             679 Luna Roads\\r\\nGreggshire, VA 11650  \n",
       "\n",
       "[5 rows x 27 columns]"
      ]
     },
     "execution_count": 5,
     "metadata": {},
     "output_type": "execute_result"
    }
   ],
   "source": [
    "data.head()"
   ]
  },
  {
   "cell_type": "code",
   "execution_count": 6,
   "metadata": {},
   "outputs": [
    {
     "data": {
      "text/plain": [
       "(396030, 27)"
      ]
     },
     "execution_count": 6,
     "metadata": {},
     "output_type": "execute_result"
    }
   ],
   "source": [
    "data.shape"
   ]
  },
  {
   "cell_type": "markdown",
   "metadata": {},
   "source": [
    "Insights: There are 3.96L datapoints with 27 features in the LoanTap dataset among which 'loan_status' is the Target column."
   ]
  },
  {
   "cell_type": "code",
   "execution_count": 7,
   "metadata": {},
   "outputs": [
    {
     "name": "stdout",
     "output_type": "stream",
     "text": [
      "<class 'pandas.core.frame.DataFrame'>\n",
      "RangeIndex: 396030 entries, 0 to 396029\n",
      "Data columns (total 27 columns):\n",
      " #   Column                Non-Null Count   Dtype  \n",
      "---  ------                --------------   -----  \n",
      " 0   loan_amnt             396030 non-null  float64\n",
      " 1   term                  396030 non-null  object \n",
      " 2   int_rate              396030 non-null  float64\n",
      " 3   installment           396030 non-null  float64\n",
      " 4   grade                 396030 non-null  object \n",
      " 5   sub_grade             396030 non-null  object \n",
      " 6   emp_title             373103 non-null  object \n",
      " 7   emp_length            377729 non-null  object \n",
      " 8   home_ownership        396030 non-null  object \n",
      " 9   annual_inc            396030 non-null  float64\n",
      " 10  verification_status   396030 non-null  object \n",
      " 11  issue_d               396030 non-null  object \n",
      " 12  loan_status           396030 non-null  object \n",
      " 13  purpose               396030 non-null  object \n",
      " 14  title                 394274 non-null  object \n",
      " 15  dti                   396030 non-null  float64\n",
      " 16  earliest_cr_line      396030 non-null  object \n",
      " 17  open_acc              396030 non-null  float64\n",
      " 18  pub_rec               396030 non-null  float64\n",
      " 19  revol_bal             396030 non-null  float64\n",
      " 20  revol_util            395754 non-null  float64\n",
      " 21  total_acc             396030 non-null  float64\n",
      " 22  initial_list_status   396030 non-null  object \n",
      " 23  application_type      396030 non-null  object \n",
      " 24  mort_acc              358235 non-null  float64\n",
      " 25  pub_rec_bankruptcies  395495 non-null  float64\n",
      " 26  address               396030 non-null  object \n",
      "dtypes: float64(12), object(15)\n",
      "memory usage: 81.6+ MB\n"
     ]
    }
   ],
   "source": [
    "data.info()"
   ]
  },
  {
   "cell_type": "markdown",
   "metadata": {},
   "source": [
    "### Checking for null values and filling with their respective appropriates"
   ]
  },
  {
   "cell_type": "code",
   "execution_count": 8,
   "metadata": {},
   "outputs": [
    {
     "data": {
      "text/plain": [
       "loan_amnt                   0\n",
       "term                        0\n",
       "int_rate                    0\n",
       "installment                 0\n",
       "grade                       0\n",
       "sub_grade                   0\n",
       "emp_title               22927\n",
       "emp_length              18301\n",
       "home_ownership              0\n",
       "annual_inc                  0\n",
       "verification_status         0\n",
       "issue_d                     0\n",
       "loan_status                 0\n",
       "purpose                     0\n",
       "title                    1756\n",
       "dti                         0\n",
       "earliest_cr_line            0\n",
       "open_acc                    0\n",
       "pub_rec                     0\n",
       "revol_bal                   0\n",
       "revol_util                276\n",
       "total_acc                   0\n",
       "initial_list_status         0\n",
       "application_type            0\n",
       "mort_acc                37795\n",
       "pub_rec_bankruptcies      535\n",
       "address                     0\n",
       "dtype: int64"
      ]
     },
     "execution_count": 8,
     "metadata": {},
     "output_type": "execute_result"
    }
   ],
   "source": [
    "data.isnull().sum()"
   ]
  },
  {
   "cell_type": "markdown",
   "metadata": {},
   "source": [
    "Insigths: \n",
    "    \n",
    "    There are null values observed in the data 6 columns. \n",
    "    \n",
    "    - Out of which 3 are categorical columns and 3 are numerical columns.\n",
    "    - Null values of Categorical columns 'emp_title','emp_length','title' can be replaced by their respective modes.\n",
    "    - Null values of Nunerical columns 'revol_util','mort_acc','pub_rec_bankruptcies' can be replaced by their respective means."
   ]
  },
  {
   "cell_type": "code",
   "execution_count": 9,
   "metadata": {},
   "outputs": [],
   "source": [
    "#Filling missing values with 'Unknown' for object dtype\n",
    "fill_values = {'title': 'Unknown', 'emp_title': 'Unknown'}\n",
    "data.fillna(value=fill_values, inplace=True)"
   ]
  },
  {
   "cell_type": "code",
   "execution_count": 10,
   "metadata": {},
   "outputs": [],
   "source": [
    "#Mean aggregation of mort_acc by total_acc to fill missing values\n",
    "\n",
    "avg_mort = data.groupby('total_acc')['mort_acc'].mean()\n",
    "\n",
    "def fill_mort(total_acc, mort_acc):\n",
    "  if np.isnan(mort_acc):\n",
    "    return avg_mort[total_acc].round()\n",
    "  else:\n",
    "    return mort_acc"
   ]
  },
  {
   "cell_type": "code",
   "execution_count": 11,
   "metadata": {},
   "outputs": [],
   "source": [
    "data['mort_acc'] = data.apply(lambda x: fill_mort(x['total_acc'],x['mort_acc']), axis=1)"
   ]
  },
  {
   "cell_type": "code",
   "execution_count": 12,
   "metadata": {},
   "outputs": [],
   "source": [
    "data.dropna(inplace=True)"
   ]
  },
  {
   "cell_type": "code",
   "execution_count": 13,
   "metadata": {},
   "outputs": [
    {
     "data": {
      "text/plain": [
       "0"
      ]
     },
     "execution_count": 13,
     "metadata": {},
     "output_type": "execute_result"
    }
   ],
   "source": [
    "data.isna().sum().sum()"
   ]
  },
  {
   "cell_type": "markdown",
   "metadata": {},
   "source": [
    "Insights: Data is free of null values and read to analyze."
   ]
  },
  {
   "cell_type": "markdown",
   "metadata": {},
   "source": [
    "## Exploratory Data Analysis"
   ]
  },
  {
   "cell_type": "markdown",
   "metadata": {},
   "source": [
    "### Splitting features based on Categorical and Numerical values"
   ]
  },
  {
   "cell_type": "code",
   "execution_count": 14,
   "metadata": {},
   "outputs": [
    {
     "name": "stdout",
     "output_type": "stream",
     "text": [
      "Index(['loan_amnt', 'term', 'int_rate', 'installment', 'grade', 'sub_grade',\n",
      "       'emp_title', 'emp_length', 'home_ownership', 'annual_inc',\n",
      "       'verification_status', 'issue_d', 'loan_status', 'purpose', 'title',\n",
      "       'dti', 'earliest_cr_line', 'open_acc', 'pub_rec', 'revol_bal',\n",
      "       'revol_util', 'total_acc', 'initial_list_status', 'application_type',\n",
      "       'mort_acc', 'pub_rec_bankruptcies', 'address'],\n",
      "      dtype='object')\n"
     ]
    }
   ],
   "source": [
    "cols = data.columns\n",
    "print(cols)"
   ]
  },
  {
   "cell_type": "code",
   "execution_count": 15,
   "metadata": {},
   "outputs": [
    {
     "data": {
      "text/html": [
       "<div>\n",
       "<style scoped>\n",
       "    .dataframe tbody tr th:only-of-type {\n",
       "        vertical-align: middle;\n",
       "    }\n",
       "\n",
       "    .dataframe tbody tr th {\n",
       "        vertical-align: top;\n",
       "    }\n",
       "\n",
       "    .dataframe thead th {\n",
       "        text-align: right;\n",
       "    }\n",
       "</style>\n",
       "<table border=\"1\" class=\"dataframe\">\n",
       "  <thead>\n",
       "    <tr style=\"text-align: right;\">\n",
       "      <th></th>\n",
       "      <th>index</th>\n",
       "      <th>0</th>\n",
       "    </tr>\n",
       "  </thead>\n",
       "  <tbody>\n",
       "    <tr>\n",
       "      <th>0</th>\n",
       "      <td>loan_amnt</td>\n",
       "      <td>float64</td>\n",
       "    </tr>\n",
       "    <tr>\n",
       "      <th>1</th>\n",
       "      <td>term</td>\n",
       "      <td>object</td>\n",
       "    </tr>\n",
       "    <tr>\n",
       "      <th>2</th>\n",
       "      <td>int_rate</td>\n",
       "      <td>float64</td>\n",
       "    </tr>\n",
       "    <tr>\n",
       "      <th>3</th>\n",
       "      <td>installment</td>\n",
       "      <td>float64</td>\n",
       "    </tr>\n",
       "    <tr>\n",
       "      <th>4</th>\n",
       "      <td>grade</td>\n",
       "      <td>object</td>\n",
       "    </tr>\n",
       "    <tr>\n",
       "      <th>5</th>\n",
       "      <td>sub_grade</td>\n",
       "      <td>object</td>\n",
       "    </tr>\n",
       "    <tr>\n",
       "      <th>6</th>\n",
       "      <td>emp_title</td>\n",
       "      <td>object</td>\n",
       "    </tr>\n",
       "    <tr>\n",
       "      <th>7</th>\n",
       "      <td>emp_length</td>\n",
       "      <td>object</td>\n",
       "    </tr>\n",
       "    <tr>\n",
       "      <th>8</th>\n",
       "      <td>home_ownership</td>\n",
       "      <td>object</td>\n",
       "    </tr>\n",
       "    <tr>\n",
       "      <th>9</th>\n",
       "      <td>annual_inc</td>\n",
       "      <td>float64</td>\n",
       "    </tr>\n",
       "    <tr>\n",
       "      <th>10</th>\n",
       "      <td>verification_status</td>\n",
       "      <td>object</td>\n",
       "    </tr>\n",
       "    <tr>\n",
       "      <th>11</th>\n",
       "      <td>issue_d</td>\n",
       "      <td>object</td>\n",
       "    </tr>\n",
       "    <tr>\n",
       "      <th>12</th>\n",
       "      <td>loan_status</td>\n",
       "      <td>object</td>\n",
       "    </tr>\n",
       "    <tr>\n",
       "      <th>13</th>\n",
       "      <td>purpose</td>\n",
       "      <td>object</td>\n",
       "    </tr>\n",
       "    <tr>\n",
       "      <th>14</th>\n",
       "      <td>title</td>\n",
       "      <td>object</td>\n",
       "    </tr>\n",
       "    <tr>\n",
       "      <th>15</th>\n",
       "      <td>dti</td>\n",
       "      <td>float64</td>\n",
       "    </tr>\n",
       "    <tr>\n",
       "      <th>16</th>\n",
       "      <td>earliest_cr_line</td>\n",
       "      <td>object</td>\n",
       "    </tr>\n",
       "    <tr>\n",
       "      <th>17</th>\n",
       "      <td>open_acc</td>\n",
       "      <td>float64</td>\n",
       "    </tr>\n",
       "    <tr>\n",
       "      <th>18</th>\n",
       "      <td>pub_rec</td>\n",
       "      <td>float64</td>\n",
       "    </tr>\n",
       "    <tr>\n",
       "      <th>19</th>\n",
       "      <td>revol_bal</td>\n",
       "      <td>float64</td>\n",
       "    </tr>\n",
       "    <tr>\n",
       "      <th>20</th>\n",
       "      <td>revol_util</td>\n",
       "      <td>float64</td>\n",
       "    </tr>\n",
       "    <tr>\n",
       "      <th>21</th>\n",
       "      <td>total_acc</td>\n",
       "      <td>float64</td>\n",
       "    </tr>\n",
       "    <tr>\n",
       "      <th>22</th>\n",
       "      <td>initial_list_status</td>\n",
       "      <td>object</td>\n",
       "    </tr>\n",
       "    <tr>\n",
       "      <th>23</th>\n",
       "      <td>application_type</td>\n",
       "      <td>object</td>\n",
       "    </tr>\n",
       "    <tr>\n",
       "      <th>24</th>\n",
       "      <td>mort_acc</td>\n",
       "      <td>float64</td>\n",
       "    </tr>\n",
       "    <tr>\n",
       "      <th>25</th>\n",
       "      <td>pub_rec_bankruptcies</td>\n",
       "      <td>float64</td>\n",
       "    </tr>\n",
       "    <tr>\n",
       "      <th>26</th>\n",
       "      <td>address</td>\n",
       "      <td>object</td>\n",
       "    </tr>\n",
       "  </tbody>\n",
       "</table>\n",
       "</div>"
      ],
      "text/plain": [
       "                   index        0\n",
       "0              loan_amnt  float64\n",
       "1                   term   object\n",
       "2               int_rate  float64\n",
       "3            installment  float64\n",
       "4                  grade   object\n",
       "5              sub_grade   object\n",
       "6              emp_title   object\n",
       "7             emp_length   object\n",
       "8         home_ownership   object\n",
       "9             annual_inc  float64\n",
       "10   verification_status   object\n",
       "11               issue_d   object\n",
       "12           loan_status   object\n",
       "13               purpose   object\n",
       "14                 title   object\n",
       "15                   dti  float64\n",
       "16      earliest_cr_line   object\n",
       "17              open_acc  float64\n",
       "18               pub_rec  float64\n",
       "19             revol_bal  float64\n",
       "20            revol_util  float64\n",
       "21             total_acc  float64\n",
       "22   initial_list_status   object\n",
       "23      application_type   object\n",
       "24              mort_acc  float64\n",
       "25  pub_rec_bankruptcies  float64\n",
       "26               address   object"
      ]
     },
     "execution_count": 15,
     "metadata": {},
     "output_type": "execute_result"
    }
   ],
   "source": [
    "col_dtypes = data.dtypes\n",
    "col_dtypes = col_dtypes.reset_index()\n",
    "col_dtypes"
   ]
  },
  {
   "cell_type": "code",
   "execution_count": 16,
   "metadata": {},
   "outputs": [],
   "source": [
    "cat_cols=list(col_dtypes[col_dtypes[0]=='object']['index'])\n",
    "num_cols= list(col_dtypes[col_dtypes[0]=='float']['index'])"
   ]
  },
  {
   "cell_type": "code",
   "execution_count": 17,
   "metadata": {},
   "outputs": [
    {
     "name": "stdout",
     "output_type": "stream",
     "text": [
      "15 Categorical Columns:\n",
      "\n",
      " ['term', 'grade', 'sub_grade', 'emp_title', 'emp_length', 'home_ownership', 'verification_status', 'issue_d', 'loan_status', 'purpose', 'title', 'earliest_cr_line', 'initial_list_status', 'application_type', 'address']\n"
     ]
    }
   ],
   "source": [
    "print(f\"{len(cat_cols)} Categorical Columns:\\n\\n\",cat_cols)"
   ]
  },
  {
   "cell_type": "code",
   "execution_count": 18,
   "metadata": {},
   "outputs": [
    {
     "name": "stdout",
     "output_type": "stream",
     "text": [
      "12 Numerical Columns:\n",
      "\n",
      " ['loan_amnt', 'int_rate', 'installment', 'annual_inc', 'dti', 'open_acc', 'pub_rec', 'revol_bal', 'revol_util', 'total_acc', 'mort_acc', 'pub_rec_bankruptcies']\n"
     ]
    }
   ],
   "source": [
    "print(f\"{len(num_cols)} Numerical Columns:\\n\\n\",num_cols)"
   ]
  },
  {
   "cell_type": "markdown",
   "metadata": {},
   "source": [
    "### Value counts of each feature"
   ]
  },
  {
   "cell_type": "code",
   "execution_count": 19,
   "metadata": {},
   "outputs": [
    {
     "data": {
      "text/html": [
       "<div>\n",
       "<style scoped>\n",
       "    .dataframe tbody tr th:only-of-type {\n",
       "        vertical-align: middle;\n",
       "    }\n",
       "\n",
       "    .dataframe tbody tr th {\n",
       "        vertical-align: top;\n",
       "    }\n",
       "\n",
       "    .dataframe thead th {\n",
       "        text-align: right;\n",
       "    }\n",
       "</style>\n",
       "<table border=\"1\" class=\"dataframe\">\n",
       "  <thead>\n",
       "    <tr style=\"text-align: right;\">\n",
       "      <th></th>\n",
       "      <th>count</th>\n",
       "      <th>mean</th>\n",
       "      <th>std</th>\n",
       "      <th>min</th>\n",
       "      <th>25%</th>\n",
       "      <th>50%</th>\n",
       "      <th>75%</th>\n",
       "      <th>max</th>\n",
       "    </tr>\n",
       "  </thead>\n",
       "  <tbody>\n",
       "    <tr>\n",
       "      <th>loan_amnt</th>\n",
       "      <td>376929.0</td>\n",
       "      <td>14264.626826</td>\n",
       "      <td>8374.474814</td>\n",
       "      <td>500.00</td>\n",
       "      <td>8000.00</td>\n",
       "      <td>12000.00</td>\n",
       "      <td>20000.00</td>\n",
       "      <td>40000.00</td>\n",
       "    </tr>\n",
       "    <tr>\n",
       "      <th>int_rate</th>\n",
       "      <td>376929.0</td>\n",
       "      <td>13.637716</td>\n",
       "      <td>4.475179</td>\n",
       "      <td>5.32</td>\n",
       "      <td>10.49</td>\n",
       "      <td>13.33</td>\n",
       "      <td>16.49</td>\n",
       "      <td>30.99</td>\n",
       "    </tr>\n",
       "    <tr>\n",
       "      <th>installment</th>\n",
       "      <td>376929.0</td>\n",
       "      <td>435.874478</td>\n",
       "      <td>251.195910</td>\n",
       "      <td>16.08</td>\n",
       "      <td>254.12</td>\n",
       "      <td>379.63</td>\n",
       "      <td>572.98</td>\n",
       "      <td>1533.81</td>\n",
       "    </tr>\n",
       "    <tr>\n",
       "      <th>annual_inc</th>\n",
       "      <td>376929.0</td>\n",
       "      <td>75397.440575</td>\n",
       "      <td>62240.311742</td>\n",
       "      <td>4000.00</td>\n",
       "      <td>46000.00</td>\n",
       "      <td>65000.00</td>\n",
       "      <td>90000.00</td>\n",
       "      <td>8706582.00</td>\n",
       "    </tr>\n",
       "    <tr>\n",
       "      <th>dti</th>\n",
       "      <td>376929.0</td>\n",
       "      <td>17.296733</td>\n",
       "      <td>8.111768</td>\n",
       "      <td>0.00</td>\n",
       "      <td>11.27</td>\n",
       "      <td>16.85</td>\n",
       "      <td>22.89</td>\n",
       "      <td>380.53</td>\n",
       "    </tr>\n",
       "    <tr>\n",
       "      <th>open_acc</th>\n",
       "      <td>376929.0</td>\n",
       "      <td>11.374460</td>\n",
       "      <td>5.144134</td>\n",
       "      <td>1.00</td>\n",
       "      <td>8.00</td>\n",
       "      <td>11.00</td>\n",
       "      <td>14.00</td>\n",
       "      <td>90.00</td>\n",
       "    </tr>\n",
       "    <tr>\n",
       "      <th>pub_rec</th>\n",
       "      <td>376929.0</td>\n",
       "      <td>0.172603</td>\n",
       "      <td>0.524977</td>\n",
       "      <td>0.00</td>\n",
       "      <td>0.00</td>\n",
       "      <td>0.00</td>\n",
       "      <td>0.00</td>\n",
       "      <td>86.00</td>\n",
       "    </tr>\n",
       "    <tr>\n",
       "      <th>revol_bal</th>\n",
       "      <td>376929.0</td>\n",
       "      <td>15979.636046</td>\n",
       "      <td>20683.822466</td>\n",
       "      <td>0.00</td>\n",
       "      <td>6106.00</td>\n",
       "      <td>11303.00</td>\n",
       "      <td>19785.00</td>\n",
       "      <td>1743266.00</td>\n",
       "    </tr>\n",
       "    <tr>\n",
       "      <th>revol_util</th>\n",
       "      <td>376929.0</td>\n",
       "      <td>53.961622</td>\n",
       "      <td>24.420020</td>\n",
       "      <td>0.00</td>\n",
       "      <td>36.10</td>\n",
       "      <td>55.00</td>\n",
       "      <td>73.00</td>\n",
       "      <td>892.30</td>\n",
       "    </tr>\n",
       "    <tr>\n",
       "      <th>total_acc</th>\n",
       "      <td>376929.0</td>\n",
       "      <td>25.482693</td>\n",
       "      <td>11.884231</td>\n",
       "      <td>2.00</td>\n",
       "      <td>17.00</td>\n",
       "      <td>24.00</td>\n",
       "      <td>32.00</td>\n",
       "      <td>151.00</td>\n",
       "    </tr>\n",
       "    <tr>\n",
       "      <th>mort_acc</th>\n",
       "      <td>376929.0</td>\n",
       "      <td>1.779234</td>\n",
       "      <td>2.060396</td>\n",
       "      <td>0.00</td>\n",
       "      <td>0.00</td>\n",
       "      <td>1.00</td>\n",
       "      <td>3.00</td>\n",
       "      <td>34.00</td>\n",
       "    </tr>\n",
       "    <tr>\n",
       "      <th>pub_rec_bankruptcies</th>\n",
       "      <td>376929.0</td>\n",
       "      <td>0.117200</td>\n",
       "      <td>0.350677</td>\n",
       "      <td>0.00</td>\n",
       "      <td>0.00</td>\n",
       "      <td>0.00</td>\n",
       "      <td>0.00</td>\n",
       "      <td>8.00</td>\n",
       "    </tr>\n",
       "  </tbody>\n",
       "</table>\n",
       "</div>"
      ],
      "text/plain": [
       "                         count          mean           std      min       25%  \\\n",
       "loan_amnt             376929.0  14264.626826   8374.474814   500.00   8000.00   \n",
       "int_rate              376929.0     13.637716      4.475179     5.32     10.49   \n",
       "installment           376929.0    435.874478    251.195910    16.08    254.12   \n",
       "annual_inc            376929.0  75397.440575  62240.311742  4000.00  46000.00   \n",
       "dti                   376929.0     17.296733      8.111768     0.00     11.27   \n",
       "open_acc              376929.0     11.374460      5.144134     1.00      8.00   \n",
       "pub_rec               376929.0      0.172603      0.524977     0.00      0.00   \n",
       "revol_bal             376929.0  15979.636046  20683.822466     0.00   6106.00   \n",
       "revol_util            376929.0     53.961622     24.420020     0.00     36.10   \n",
       "total_acc             376929.0     25.482693     11.884231     2.00     17.00   \n",
       "mort_acc              376929.0      1.779234      2.060396     0.00      0.00   \n",
       "pub_rec_bankruptcies  376929.0      0.117200      0.350677     0.00      0.00   \n",
       "\n",
       "                           50%       75%         max  \n",
       "loan_amnt             12000.00  20000.00    40000.00  \n",
       "int_rate                 13.33     16.49       30.99  \n",
       "installment             379.63    572.98     1533.81  \n",
       "annual_inc            65000.00  90000.00  8706582.00  \n",
       "dti                      16.85     22.89      380.53  \n",
       "open_acc                 11.00     14.00       90.00  \n",
       "pub_rec                   0.00      0.00       86.00  \n",
       "revol_bal             11303.00  19785.00  1743266.00  \n",
       "revol_util               55.00     73.00      892.30  \n",
       "total_acc                24.00     32.00      151.00  \n",
       "mort_acc                  1.00      3.00       34.00  \n",
       "pub_rec_bankruptcies      0.00      0.00        8.00  "
      ]
     },
     "execution_count": 19,
     "metadata": {},
     "output_type": "execute_result"
    }
   ],
   "source": [
    "data[num_cols].describe().transpose()"
   ]
  },
  {
   "cell_type": "markdown",
   "metadata": {},
   "source": [
    "Insights:\n",
    "    \n",
    "    - Maximum amount applied for loan is 4000 and minimum is 500. \n",
    "    - Maximum number of pu_rec_bankruptcies are 8 and minimum is 0.\n",
    "    - Maximum total number of credit lines currently in the borrower's credit file(total_acc) are 151 \n",
    "      and minimum are 2.\n",
    "    - Maximum installment rate is 30.99 and minimum is 5.32.\n",
    "    - Maximum number of pub_rec(Number of derogatory public records) are 86 and minimum are 0.\n",
    "    - Maximum no of mortgage accounts are 34 and minimum are 0. "
   ]
  },
  {
   "cell_type": "code",
   "execution_count": 20,
   "metadata": {
    "scrolled": false
   },
   "outputs": [
    {
     "name": "stdout",
     "output_type": "stream",
     "text": [
      "\"term\" has 2 unique values :\n",
      " [' 36 months' ' 60 months'] \n",
      " -------------------------\n",
      "\"grade\" has 7 unique values :\n",
      " ['B' 'A' 'C' 'E' 'D' 'F' 'G'] \n",
      " -------------------------\n",
      "\"sub_grade\" has 35 unique values :\n",
      " ['B4' 'B5' 'B3' 'A2' 'C5' 'C3' 'A1' 'B2' 'C1' 'A5' 'E4' 'A4' 'A3' 'D1'\n",
      " 'C2' 'B1' 'D3' 'D5' 'D2' 'E1' 'E2' 'E5' 'F4' 'E3' 'D4' 'G1' 'F5' 'G2'\n",
      " 'C4' 'F1' 'F3' 'G5' 'G4' 'F2' 'G3'] \n",
      " -------------------------\n",
      "\"emp_title\" has 172567 unique values :\n",
      " ['Marketing' 'Credit analyst ' 'Statistician' ...\n",
      " \"Michael's Arts & Crafts\" 'licensed bankere' 'Gracon Services, Inc'] \n",
      " -------------------------\n",
      "\"emp_length\" has 11 unique values :\n",
      " ['10+ years' '4 years' '< 1 year' '6 years' '9 years' '2 years' '3 years'\n",
      " '8 years' '7 years' '5 years' '1 year'] \n",
      " -------------------------\n",
      "\"home_ownership\" has 6 unique values :\n",
      " ['RENT' 'MORTGAGE' 'OWN' 'OTHER' 'ANY' 'NONE'] \n",
      " -------------------------\n",
      "\"verification_status\" has 3 unique values :\n",
      " ['Not Verified' 'Source Verified' 'Verified'] \n",
      " -------------------------\n",
      "\"issue_d\" has 112 unique values :\n",
      " ['Jan-2015' 'Nov-2014' 'Apr-2013' 'Sep-2015' 'Sep-2012' 'Oct-2014'\n",
      " 'Apr-2012' 'Jun-2013' 'May-2014' 'Dec-2015' 'Apr-2015' 'Oct-2012'\n",
      " 'Jul-2014' 'Feb-2013' 'Oct-2015' 'Jan-2014' 'Mar-2016' 'Apr-2014'\n",
      " 'Jun-2011' 'Apr-2010' 'Jun-2014' 'Oct-2013' 'May-2013' 'Feb-2015'\n",
      " 'Oct-2011' 'Jun-2015' 'Feb-2014' 'Dec-2011' 'Mar-2013' 'Jun-2016'\n",
      " 'Mar-2014' 'Nov-2013' 'Dec-2014' 'Sep-2013' 'May-2016' 'Jul-2015'\n",
      " 'Jul-2013' 'Aug-2013' 'Aug-2014' 'May-2008' 'Mar-2010' 'Dec-2013'\n",
      " 'Mar-2012' 'Mar-2015' 'Sep-2011' 'Jul-2012' 'Dec-2012' 'Sep-2014'\n",
      " 'Nov-2012' 'Apr-2016' 'Nov-2015' 'Jan-2011' 'May-2012' 'Jun-2012'\n",
      " 'Aug-2012' 'May-2015' 'Oct-2016' 'Aug-2015' 'Jul-2016' 'Feb-2016'\n",
      " 'May-2009' 'Aug-2016' 'Jan-2012' 'Jan-2013' 'Nov-2010' 'Jul-2011'\n",
      " 'Mar-2011' 'Feb-2012' 'May-2011' 'Aug-2010' 'Jan-2016' 'Nov-2016'\n",
      " 'Jul-2010' 'Sep-2010' 'Dec-2010' 'Feb-2011' 'Jun-2009' 'Aug-2011'\n",
      " 'Dec-2016' 'Mar-2009' 'Jun-2010' 'May-2010' 'Nov-2011' 'Sep-2016'\n",
      " 'Oct-2009' 'Nov-2008' 'Dec-2009' 'Oct-2010' 'Sep-2009' 'Aug-2009'\n",
      " 'Jul-2009' 'Nov-2009' 'Jan-2010' 'Dec-2008' 'Feb-2009' 'Oct-2008'\n",
      " 'Apr-2009' 'Feb-2010' 'Apr-2011' 'Apr-2008' 'Aug-2008' 'Jan-2009'\n",
      " 'Sep-2008' 'Jun-2008' 'Jul-2008' 'Mar-2008' 'Oct-2007' 'Dec-2007'\n",
      " 'Feb-2008' 'Jan-2008' 'Nov-2007' 'Aug-2007'] \n",
      " -------------------------\n",
      "\"loan_status\" has 2 unique values :\n",
      " ['Fully Paid' 'Charged Off'] \n",
      " -------------------------\n",
      "\"purpose\" has 14 unique values :\n",
      " ['vacation' 'debt_consolidation' 'credit_card' 'home_improvement'\n",
      " 'small_business' 'major_purchase' 'other' 'medical' 'wedding' 'car'\n",
      " 'moving' 'house' 'educational' 'renewable_energy'] \n",
      " -------------------------\n",
      "\"title\" has 46765 unique values :\n",
      " ['Vacation' 'Debt consolidation' 'Credit card refinancing' ...\n",
      " 'Credit buster ' 'Loanforpayoff' 'Toxic Debt Payoff'] \n",
      " -------------------------\n",
      "\"earliest_cr_line\" has 665 unique values :\n",
      " ['Jun-1990' 'Jul-2004' 'Aug-2007' 'Sep-2006' 'Mar-1999' 'Jan-2005'\n",
      " 'Aug-2005' 'Sep-1994' 'Jun-1994' 'Dec-1997' 'Dec-1990' 'May-1984'\n",
      " 'Apr-1995' 'Jan-1997' 'May-2001' 'Mar-1982' 'Sep-1996' 'Jan-1990'\n",
      " 'Mar-2000' 'Jan-2006' 'Oct-2006' 'Jan-2003' 'May-2008' 'Oct-2003'\n",
      " 'Jun-2004' 'Jan-1999' 'Apr-1994' 'Apr-1998' 'Jul-2007' 'Apr-2002'\n",
      " 'Oct-2007' 'May-1997' 'Jul-2006' 'Sep-2003' 'Aug-1992' 'Dec-1988'\n",
      " 'Feb-2002' 'Jan-1992' 'Aug-2001' 'Dec-2010' 'Oct-1999' 'Sep-2004'\n",
      " 'Jul-2003' 'Apr-2000' 'Dec-2004' 'Jun-1995' 'Dec-2003' 'Jul-1994'\n",
      " 'Oct-1990' 'Dec-2001' 'Apr-1999' 'Feb-1995' 'May-2003' 'Oct-2002'\n",
      " 'Mar-2004' 'Aug-2003' 'Oct-2000' 'Nov-2004' 'Mar-2010' 'Mar-1996'\n",
      " 'May-1994' 'Jun-1996' 'Nov-1986' 'Jan-2001' 'Jan-2002' 'Mar-2001'\n",
      " 'Sep-2012' 'Apr-2006' 'May-1998' 'Dec-2002' 'Nov-2003' 'Oct-2005'\n",
      " 'May-1990' 'Jun-2003' 'Jun-2001' 'Jan-1998' 'Oct-1978' 'Feb-2001'\n",
      " 'Jun-2006' 'Aug-1993' 'Apr-2001' 'Nov-2001' 'Feb-2003' 'Jun-1993'\n",
      " 'Sep-1992' 'Nov-1992' 'Jun-1983' 'Oct-2001' 'Jul-1999' 'Sep-1997'\n",
      " 'Nov-1993' 'Feb-1993' 'Apr-2007' 'Nov-1999' 'Nov-2005' 'Dec-1992'\n",
      " 'Mar-1986' 'May-1989' 'Dec-2000' 'Mar-1991' 'Mar-2005' 'Jun-2010'\n",
      " 'Dec-1998' 'Sep-2001' 'Nov-2000' 'Jan-1994' 'Aug-2002' 'Jan-2011'\n",
      " 'Aug-2008' 'Jun-2005' 'Nov-1997' 'May-1996' 'May-1993' 'Sep-2005'\n",
      " 'Jun-1992' 'Apr-1986' 'Aug-1996' 'Aug-1997' 'Jul-2005' 'May-2011'\n",
      " 'Sep-2002' 'Jan-1989' 'Aug-1999' 'Feb-1992' 'Sep-1999' 'Jul-2001'\n",
      " 'Oct-2008' 'Nov-2007' 'Apr-1997' 'Jun-1986' 'Sep-1998' 'Jun-1982'\n",
      " 'Oct-1981' 'Feb-1994' 'Dec-1984' 'Nov-1991' 'Nov-2006' 'Aug-2000'\n",
      " 'Oct-2004' 'Apr-1988' 'May-2004' 'Aug-1988' 'Mar-1994' 'Aug-2004'\n",
      " 'Dec-2006' 'Nov-1998' 'Oct-1997' 'Mar-1989' 'Feb-1988' 'Jul-1982'\n",
      " 'Nov-1995' 'Mar-1997' 'Oct-1994' 'Jul-1998' 'Jun-2002' 'May-1991'\n",
      " 'Oct-2011' 'Sep-2007' 'Jan-2007' 'Jan-2010' 'Mar-1987' 'Feb-1997'\n",
      " 'Oct-1986' 'Mar-2002' 'Jul-1993' 'Mar-2007' 'Aug-1989' 'Oct-1995'\n",
      " 'May-2007' 'Dec-1993' 'Jun-1989' 'Apr-2004' 'Jun-1997' 'Apr-1996'\n",
      " 'Apr-1992' 'Oct-1998' 'Mar-1983' 'Mar-1985' 'Oct-1993' 'Feb-2000'\n",
      " 'Apr-2003' 'Jul-1985' 'May-1978' 'Sep-2010' 'Oct-1996' 'Sep-2009'\n",
      " 'Jun-1999' 'Jan-2000' 'Sep-1987' 'Aug-1998' 'Jan-1995' 'May-2000'\n",
      " 'Jun-1981' 'Nov-1996' 'Feb-1998' 'Aug-1967' 'Dec-1999' 'Aug-2006'\n",
      " 'Nov-2009' 'Jul-2000' 'Mar-1988' 'Jul-1992' 'Jul-1991' 'Mar-1990'\n",
      " 'May-1986' 'Jun-1991' 'Dec-1987' 'Jul-1996' 'Jul-1988' 'Jul-1997'\n",
      " 'Dec-2005' 'Mar-2003' 'Feb-1999' 'Nov-1990' 'Jun-2000' 'Dec-1996'\n",
      " 'Apr-2010' 'Jan-2004' 'May-1999' 'Sep-1972' 'Jul-1981' 'Sep-1993'\n",
      " 'Feb-2009' 'Nov-2002' 'Jan-1993' 'May-2005' 'Sep-1982' 'Apr-1990'\n",
      " 'Feb-1996' 'Mar-1993' 'Apr-1978' 'Jul-1995' 'May-1995' 'Apr-1991'\n",
      " 'Mar-1998' 'Aug-1991' 'Jul-2002' 'Oct-1989' 'Apr-1984' 'Aug-1994'\n",
      " 'Dec-2009' 'Sep-2000' 'Jan-1982' 'Jun-1998' 'Jan-1996' 'Nov-1987'\n",
      " 'May-2010' 'Jun-1987' 'Feb-2004' 'Oct-1991' 'Dec-1989' 'Oct-1992'\n",
      " 'Feb-2005' 'Apr-1993' 'Dec-1985' 'Sep-1979' 'Feb-2007' 'Nov-1989'\n",
      " 'Apr-2005' 'Mar-1978' 'Sep-1985' 'Nov-1994' 'Jun-2008' 'Apr-1987'\n",
      " 'Dec-1983' 'Dec-2007' 'May-1992' 'Jul-1990' 'Jan-1988' 'Mar-1995'\n",
      " 'Feb-2006' 'Feb-1985' 'Sep-1989' 'Aug-2009' 'Nov-2008' 'Nov-1981'\n",
      " 'Jan-2008' 'Aug-1987' 'Nov-1985' 'Dec-1965' 'Sep-1995' 'Jan-1986'\n",
      " 'Oct-2009' 'May-2002' 'Aug-1980' 'Sep-1977' 'Sep-1988' 'Oct-1987'\n",
      " 'Oct-1984' 'May-1988' 'Aug-1984' 'Nov-1988' 'May-1974' 'Nov-1982'\n",
      " 'Sep-1991' 'Feb-1984' 'Feb-1991' 'Jun-2009' 'Jan-1981' 'Jul-1989'\n",
      " 'Dec-1976' 'Dec-1994' 'Dec-1980' 'Sep-1984' 'Aug-1990' 'Jun-2007'\n",
      " 'Aug-1979' 'Sep-2008' 'Apr-1983' 'Mar-2006' 'Jul-1984' 'Jan-1985'\n",
      " 'Dec-1995' 'Apr-2008' 'Aug-1995' 'Mar-2008' 'Jan-1983' 'Jun-1979'\n",
      " 'Jul-1986' 'Nov-1977' 'Dec-1982' 'May-1979' 'May-1985' 'Feb-1983'\n",
      " 'Aug-1982' 'Oct-1980' 'Mar-1979' 'Jan-1978' 'Jun-2011' 'Mar-1984'\n",
      " 'May-1983' 'Jul-2008' 'Dec-1986' 'Apr-1982' 'Jul-1983' 'Feb-1990'\n",
      " 'Dec-2008' 'Jul-1975' 'Dec-1971' 'Feb-2008' 'Mar-2011' 'Feb-1987'\n",
      " 'Feb-1989' 'Aug-1985' 'Jul-2010' 'Apr-1989' 'Feb-1980' 'May-2006'\n",
      " 'Nov-2010' 'Apr-2009' 'Feb-2010' 'May-1976' 'Feb-1981' 'Jan-2012'\n",
      " 'Oct-1988' 'Nov-1984' 'May-1982' 'Oct-1975' 'Jun-1988' 'May-1972'\n",
      " 'Apr-2013' 'Sep-1990' 'Oct-1982' 'Feb-2013' 'Mar-1992' 'Jun-1985'\n",
      " 'Aug-1981' 'Feb-2011' 'Nov-1974' 'Feb-1978' 'Sep-1983' 'Jul-2011'\n",
      " 'Nov-1979' 'Oct-1985' 'Aug-1983' 'Apr-1985' 'Jul-2009' 'Jul-1987'\n",
      " 'Nov-1983' 'Aug-1978' 'Aug-2010' 'Oct-1976' 'Aug-1986' 'Jan-1991'\n",
      " 'Dec-1991' 'May-2009' 'Aug-2011' 'Jan-1974' 'May-1981' 'Jun-1972'\n",
      " 'Jun-1978' 'Sep-1986' 'Jan-1987' 'Jan-1975' 'Jan-1980' 'Sep-1980'\n",
      " 'Jul-1974' 'Dec-1975' 'Jan-1984' 'Nov-1980' 'May-1987' 'Sep-1970'\n",
      " 'Jan-1976' 'Feb-1986' 'Oct-2010' 'Apr-1979' 'Oct-1979' 'Jan-1979'\n",
      " 'Sep-2011' 'Jul-1979' 'Sep-1975' 'Mar-1981' 'Aug-1971' 'Apr-1980'\n",
      " 'Apr-1977' 'Nov-1976' 'Nov-1970' 'Nov-2011' 'Nov-1973' 'Sep-1981'\n",
      " 'Jul-1980' 'Mar-2012' 'Mar-1977' 'Dec-1977' 'May-2012' 'Dec-1979'\n",
      " 'Oct-1983' 'Jan-2009' 'Jan-1970' 'Dec-2011' 'Mar-1976' 'Jan-1973'\n",
      " 'Oct-1973' 'Mar-1969' 'Oct-1977' 'Mar-1975' 'Jun-1969' 'Oct-1963'\n",
      " 'Nov-1960' 'Aug-1970' 'Feb-1979' 'Sep-1974' 'May-1966' 'Apr-1972'\n",
      " 'Apr-1973' 'May-1975' 'Sep-1966' 'May-1980' 'Feb-1982' 'Feb-1969'\n",
      " 'Feb-2012' 'Jan-1961' 'Aug-1973' 'Feb-1972' 'Apr-1975' 'Jul-1978'\n",
      " 'Mar-1980' 'Sep-1976' 'Apr-2011' 'Nov-2012' 'Jun-1984' 'Aug-1976'\n",
      " 'Apr-1981' 'Mar-2009' 'Jun-1977' 'Apr-2012' 'Apr-1971' 'Sep-1969'\n",
      " 'Feb-1977' 'Jun-2012' 'Apr-1976' 'Feb-1965' 'Jul-1977' 'Jun-1976'\n",
      " 'Mar-1973' 'Oct-1972' 'Aug-1977' 'Dec-1978' 'Jun-1975' 'Nov-1967'\n",
      " 'Nov-1971' 'Jun-1980' 'May-1964' 'Feb-1975' 'Feb-1971' 'Apr-1970'\n",
      " 'Apr-1969' 'Jun-1974' 'Oct-1974' 'May-1977' 'Dec-1981' 'Feb-1976'\n",
      " 'Mar-1970' 'Aug-1968' 'Jun-1963' 'Jun-2013' 'Mar-1972' 'Aug-2012'\n",
      " 'Feb-1968' 'Dec-1969' 'Jan-1977' 'Jul-1970' 'Feb-1973' 'Mar-1974'\n",
      " 'Feb-1974' 'Jul-1972' 'Jul-1973' 'Sep-1964' 'Jul-1965' 'Jul-2012'\n",
      " 'Jun-1973' 'Nov-1975' 'Jul-1963' 'Nov-1978' 'Jan-1964' 'Jun-1971'\n",
      " 'Mar-1971' 'Dec-1968' 'May-1958' 'Sep-1973' 'May-1971' 'Dec-1972'\n",
      " 'Aug-1965' 'Dec-1974' 'Jul-1976' 'Oct-2012' 'May-1973' 'Apr-1955'\n",
      " 'Sep-1978' 'Apr-1966' 'Jan-1968' 'Nov-1968' 'Mar-2013' 'Jan-2013'\n",
      " 'Oct-1965' 'Jan-1966' 'Aug-1972' 'Jul-1969' 'May-1965' 'Oct-1969'\n",
      " 'Aug-1974' 'May-1968' 'Aug-1969' 'May-2013' 'Jul-1967' 'Oct-1967'\n",
      " 'May-1970' 'Aug-1975' 'Apr-1974' 'Jan-1963' 'Apr-1968' 'Jul-1971'\n",
      " 'Dec-1973' 'Jan-1969' 'Nov-1972' 'Oct-1959' 'Apr-1967' 'Sep-1967'\n",
      " 'Nov-1963' 'Feb-1970' 'Oct-1971' 'Jun-1960' 'Jan-1960' 'Sep-2013'\n",
      " 'Sep-1971' 'May-1969' 'Dec-1966' 'Oct-1970' 'Nov-1969' 'Jan-1972'\n",
      " 'Dec-1967' 'Sep-1968' 'Oct-1964' 'Aug-1966' 'Jan-1971' 'Jul-1966'\n",
      " 'Apr-1964' 'Sep-1962' 'Jul-2013' 'Jun-1967' 'Apr-1965' 'Jun-1966'\n",
      " 'Jan-1962' 'Oct-1968' 'Aug-1958' 'Dec-1959' 'Sep-1963' 'Dec-2012'\n",
      " 'Dec-1963' 'Jan-1944' 'Jun-1965' 'May-1962' 'Jun-1970' 'Dec-1970'\n",
      " 'Mar-1968' 'Jan-1967' 'Aug-2013' 'Jun-1968' 'Oct-1957' 'Dec-1958'\n",
      " 'Mar-1967' 'Feb-1963' 'Feb-1967' 'Dec-1960' 'May-1955' 'Feb-1966'\n",
      " 'Nov-1950' 'Mar-1964' 'Jan-1958' 'Nov-1966' 'Dec-1962' 'Sep-1961'\n",
      " 'Jun-1957' 'Dec-1964' 'Nov-1953' 'Jan-1965' 'Mar-1966' 'Oct-1960'\n",
      " 'Feb-1964' 'Jul-1959' 'Jul-1968' 'Mar-1963' 'Mar-1962' 'Nov-1965'\n",
      " 'Jul-1960' 'May-1967' 'Oct-1962' 'Dec-1950' 'Jul-1958' 'Nov-1954'\n",
      " 'Nov-1957' 'May-1963' 'Jul-1955' 'Oct-1950' 'Dec-1961' 'Oct-2013'\n",
      " 'Jun-1964' 'Nov-1964' 'Aug-1964' 'Apr-1962' 'Jun-1962' 'Sep-1959'\n",
      " 'Jul-1962' 'Jan-1957' 'Sep-1965' 'Jan-1956' 'Nov-1958' 'Jul-1951'\n",
      " 'Jan-1959' 'Apr-1958' 'Mar-1960' 'Sep-1957' 'Sep-1960' 'May-1959'\n",
      " 'Oct-1966' 'Jun-1959' 'Feb-1962' 'Sep-1956' 'Jul-1964' 'Aug-1960'\n",
      " 'Feb-1961' 'Jan-1948' 'Aug-1963' 'Oct-1961' 'Aug-1962'] \n",
      " -------------------------\n",
      "\"initial_list_status\" has 2 unique values :\n",
      " ['w' 'f'] \n",
      " -------------------------\n",
      "\"application_type\" has 3 unique values :\n",
      " ['INDIVIDUAL' 'JOINT' 'DIRECT_PAY'] \n",
      " -------------------------\n",
      "\"address\" has 374809 unique values :\n",
      " ['0174 Michelle Gateway\\r\\nMendozaberg, OK 22690'\n",
      " '1076 Carney Fort Apt. 347\\r\\nLoganmouth, SD 05113'\n",
      " '87025 Mark Dale Apt. 269\\r\\nNew Sabrina, WV 05113' ...\n",
      " '953 Matthew Points Suite 414\\r\\nReedfort, NY 70466'\n",
      " '7843 Blake Freeway Apt. 229\\r\\nNew Michael, FL 29597'\n",
      " '787 Michelle Causeway\\r\\nBriannaton, AR 48052'] \n",
      " -------------------------\n"
     ]
    }
   ],
   "source": [
    "for col in cat_cols:\n",
    "    print(f'\"{col}\" has {data[col].nunique()} unique values',':\\n', data[col].unique(),'\\n','-'*25)"
   ]
  },
  {
   "cell_type": "markdown",
   "metadata": {},
   "source": [
    "### UNIVARIATE ANALYSIS"
   ]
  },
  {
   "cell_type": "markdown",
   "metadata": {},
   "source": [
    "### Selecting Categorical columns based on no of categories"
   ]
  },
  {
   "cell_type": "code",
   "execution_count": 21,
   "metadata": {},
   "outputs": [],
   "source": [
    "# selected category cols\n",
    "sel_cat_cols = ['term', 'grade', 'emp_length', 'home_ownership', 'verification_status', 'loan_status', 'purpose', 'initial_list_status', 'application_type']"
   ]
  },
  {
   "cell_type": "code",
   "execution_count": 22,
   "metadata": {},
   "outputs": [
    {
     "data": {
      "image/png": "[encoded data removed]",
      "text/plain": [
       "<Figure size 1080x1080 with 9 Axes>"
      ]
     },
     "metadata": {
      "needs_background": "light"
     },
     "output_type": "display_data"
    }
   ],
   "source": [
    "#univariate analysis on categorical features\n",
    "fig = plt.figure(figsize=(15,15))\n",
    "for n,col in enumerate(sel_cat_cols):\n",
    "    \n",
    "    plt.subplot(int(len(sel_cat_cols)/2 +1), 2, n+1)\n",
    "    plt.subplots_adjust(left=0.1, right=0.9, top=0.9, bottom=0.1, wspace=0.3, hspace=1.5)\n",
    "    #plt.pie(list(data[col].value_counts().values),labels = list(data[col].value_counts().index), startangle = 90)\n",
    "    sns.countplot(x = data[col], dodge='False')\n",
    "    #plt.title(col, fontsize = 15)\n",
    "    plt.xticks(rotation = 45)\n",
    "    plt.xlabel(col, color='black', fontsize='15')\n",
    "    plt.ylabel('')\n",
    "fig.suptitle(\"Univariate Analysis Categorical Features\", fontsize= 20, color = 'blue')\n",
    "plt.show()"
   ]
  },
  {
   "cell_type": "markdown",
   "metadata": {},
   "source": [
    "Insights:\n",
    "    \n",
    "    - Maximum no of customers applyed for loan took term as '30 months' than '60 months'.\n",
    "    - Customers with grade B are more followed by 'C','A','D' and 'E'.\n",
    "    - More no of customers who applied for loan are with >10 years emp_length(experience of employee).\n",
    "    - Maximum customers have their home on motgage, followed by rented home and then own house.\n",
    "    - Maximum number of customers had their income verified by LoanTap.\n",
    "    - 80% of the customers have fully paid their loan and 20% didnt.\n",
    "    - Maximum of the customers took the loan for vacation purpose.\n",
    "    - The initial listing status of the loan is 'w' for maximum number of customers.\n",
    "    - Maximum number of customers applied for loan individually ie.application_type is 'INIDVIDUAL' ."
   ]
  },
  {
   "cell_type": "code",
   "execution_count": 23,
   "metadata": {},
   "outputs": [
    {
     "data": {
      "image/png": "[encoded data removed]",
      "text/plain": [
       "<Figure size 1800x1800 with 12 Axes>"
      ]
     },
     "metadata": {
      "needs_background": "light"
     },
     "output_type": "display_data"
    }
   ],
   "source": [
    "#univariate analysis on numerical features\n",
    "fig = plt.figure(figsize=(25,25))\n",
    "for i,col in enumerate(num_cols):\n",
    "    plt.subplot(int(len(num_cols)/2 +1), 2, i+1)\n",
    "    plt.subplots_adjust(left=0.1, right=0.9, top=0.9, bottom=0.1, wspace=0.3, hspace=0.6)\n",
    "    sns.histplot(x=data[col] )\n",
    "    plt.xlabel(col,fontsize =15)\n",
    "    #plt.ylabel(\"count of bikes\", fontsize = 15, color = 'blue')\n",
    "fig.suptitle(\"Univariate Analysis of Numerical cols \", fontsize= 20, color = 'blue')\n",
    "plt.show()"
   ]
  },
  {
   "cell_type": "code",
   "execution_count": 24,
   "metadata": {},
   "outputs": [
    {
     "data": {
      "image/png": "[encoded data removed]",
      "text/plain": [
       "<Figure size 720x504 with 1 Axes>"
      ]
     },
     "metadata": {},
     "output_type": "display_data"
    }
   ],
   "source": [
    "#pie chart for loan_status\n",
    "fig = plt.figure(figsize=(10,7))\n",
    "plt.pie(list(data['loan_status'].value_counts().values),labels = list(data['loan_status'].value_counts().index),\n",
    "        autopct='%.0f%%', explode = [0.1, 0], shadow = True)\n",
    "plt.title('Loan status', fontsize='20', color='blue')\n",
    "plt.show()\n"
   ]
  },
  {
   "cell_type": "markdown",
   "metadata": {},
   "source": [
    "Insights:\n",
    "    \n",
    "    81% of customers fully paid the loan. 19% chargerd off."
   ]
  },
  {
   "cell_type": "code",
   "execution_count": 25,
   "metadata": {},
   "outputs": [
    {
     "data": {
      "image/png": "[encoded data removed]",
      "text/plain": [
       "<Figure size 720x504 with 1 Axes>"
      ]
     },
     "metadata": {
      "needs_background": "light"
     },
     "output_type": "display_data"
    }
   ],
   "source": [
    "#top 5 employee titles of customers\n",
    "fig = plt.figure(figsize=(10,7))\n",
    "sns.barplot(x= data['emp_title'].value_counts()[:5].index, y = data['emp_title'].value_counts()[:5].values)\n",
    "plt.xlabel('emp_title', fontsize= 15, color = 'black')\n",
    "plt.ylabel(\"count\",fontsize= 15, color = 'black')\n",
    "plt.title('Top Employee titles', fontsize='20', color='black')\n",
    "plt.show()\n"
   ]
  },
  {
   "cell_type": "markdown",
   "metadata": {},
   "source": [
    "Insights:\n",
    "    \n",
    "    Teacher and Manager are top 2 employee titles."
   ]
  },
  {
   "cell_type": "markdown",
   "metadata": {},
   "source": [
    "### BIVARIATE ANALYSIS"
   ]
  },
  {
   "cell_type": "code",
   "execution_count": 26,
   "metadata": {},
   "outputs": [
    {
     "data": {
      "image/png": "[encoded data removed]",
      "text/plain": [
       "<Figure size 1296x1800 with 9 Axes>"
      ]
     },
     "metadata": {
      "needs_background": "light"
     },
     "output_type": "display_data"
    }
   ],
   "source": [
    "fig = plt.figure(figsize=(18,25))\n",
    "for i,col in enumerate(sel_cat_cols):\n",
    "    plt.subplot(int(len(sel_cat_cols)/2 +1), 2, i+1)\n",
    "    sns.histplot(data= data, x= \"loan_status\", y= col, color = 'red')\n",
    "    sns.set_theme(style='dark')\n",
    "    plt.xlabel('loan_status', fontsize= 15, color = 'black')\n",
    "    plt.ylabel(col,fontsize= 15, color = 'black')\n",
    "    plt.xticks(fontsize = 15)\n",
    "\n",
    "plt.suptitle(\"LoanStatus Vs Categorical Features\",fontsize=20, color = 'red')\n",
    "plt.show()"
   ]
  },
  {
   "cell_type": "markdown",
   "metadata": {},
   "source": [
    "Insights:\n",
    "    \n",
    "    - Maximum number of Customers with 'application_type' INIDIVIDUAL had paid the loan fully.\n",
    "    - Maximum number of customers with 'purpose' debt_consolidation had paid the loan fully.\n",
    "    - Almost all the customers of all verification_types fully paid the loan.\n",
    "    - Maximum number of customers with 'home_ownership' mortgage had paid the loan fully.\n",
    "    - Maximum number of customers with 'emp_lenght' >10 years had paid the loan fully.\n",
    "    - Maximum number of customers with 'term' 36 months had paid the loan fully.\n",
    "    - Maximum number of customers with 'grade' B had paid the loan fully."
   ]
  },
  {
   "cell_type": "code",
   "execution_count": 27,
   "metadata": {},
   "outputs": [
    {
     "data": {
      "text/html": [
       "<div>\n",
       "<style scoped>\n",
       "    .dataframe tbody tr th:only-of-type {\n",
       "        vertical-align: middle;\n",
       "    }\n",
       "\n",
       "    .dataframe tbody tr th {\n",
       "        vertical-align: top;\n",
       "    }\n",
       "\n",
       "    .dataframe thead th {\n",
       "        text-align: right;\n",
       "    }\n",
       "</style>\n",
       "<table border=\"1\" class=\"dataframe\">\n",
       "  <thead>\n",
       "    <tr style=\"text-align: right;\">\n",
       "      <th>grade</th>\n",
       "      <th>A</th>\n",
       "      <th>B</th>\n",
       "      <th>C</th>\n",
       "      <th>D</th>\n",
       "      <th>E</th>\n",
       "      <th>F</th>\n",
       "      <th>G</th>\n",
       "      <th>Fraction</th>\n",
       "    </tr>\n",
       "    <tr>\n",
       "      <th>loan_status</th>\n",
       "      <th></th>\n",
       "      <th></th>\n",
       "      <th></th>\n",
       "      <th></th>\n",
       "      <th></th>\n",
       "      <th></th>\n",
       "      <th></th>\n",
       "      <th></th>\n",
       "    </tr>\n",
       "  </thead>\n",
       "  <tbody>\n",
       "    <tr>\n",
       "      <th>Charged Off</th>\n",
       "      <td>0.06</td>\n",
       "      <td>0.12</td>\n",
       "      <td>0.21</td>\n",
       "      <td>0.28</td>\n",
       "      <td>0.37</td>\n",
       "      <td>0.43</td>\n",
       "      <td>0.48</td>\n",
       "      <td>0.19</td>\n",
       "    </tr>\n",
       "    <tr>\n",
       "      <th>Fully Paid</th>\n",
       "      <td>0.94</td>\n",
       "      <td>0.88</td>\n",
       "      <td>0.79</td>\n",
       "      <td>0.72</td>\n",
       "      <td>0.63</td>\n",
       "      <td>0.57</td>\n",
       "      <td>0.52</td>\n",
       "      <td>0.81</td>\n",
       "    </tr>\n",
       "  </tbody>\n",
       "</table>\n",
       "</div>"
      ],
      "text/plain": [
       "grade           A     B     C     D     E     F     G  Fraction\n",
       "loan_status                                                    \n",
       "Charged Off  0.06  0.12  0.21  0.28  0.37  0.43  0.48      0.19\n",
       "Fully Paid   0.94  0.88  0.79  0.72  0.63  0.57  0.52      0.81"
      ]
     },
     "execution_count": 27,
     "metadata": {},
     "output_type": "execute_result"
    }
   ],
   "source": [
    "pd.crosstab(data['loan_status'],data['grade'], normalize='columns',margins= True,\n",
    "            margins_name = 'Fraction').round(2)"
   ]
  },
  {
   "cell_type": "markdown",
   "metadata": {},
   "source": [
    "### CORRELATION"
   ]
  },
  {
   "cell_type": "code",
   "execution_count": 28,
   "metadata": {},
   "outputs": [
    {
     "ename": "ValueError",
     "evalue": "could not convert string to float: ' 36 months'",
     "output_type": "error",
     "traceback": [
      "\u001b[0;31m---------------------------------------------------------------------------\u001b[0m",
      "\u001b[0;31mValueError\u001b[0m                                Traceback (most recent call last)",
      "\u001b[0;32m<ipython-input-28-d9b03d36f44a>\u001b[0m in \u001b[0;36m<module>\u001b[0;34m\u001b[0m\n\u001b[1;32m      1\u001b[0m \u001b[0;31m#Heat map for correlation\u001b[0m\u001b[0;34m\u001b[0m\u001b[0;34m\u001b[0m\u001b[0;34m\u001b[0m\u001b[0m\n\u001b[1;32m      2\u001b[0m \u001b[0mplt\u001b[0m\u001b[0;34m.\u001b[0m\u001b[0mfigure\u001b[0m\u001b[0;34m(\u001b[0m\u001b[0mfigsize\u001b[0m\u001b[0;34m=\u001b[0m\u001b[0;34m(\u001b[0m\u001b[0;36m10\u001b[0m\u001b[0;34m,\u001b[0m\u001b[0;36m10\u001b[0m\u001b[0;34m)\u001b[0m\u001b[0;34m)\u001b[0m\u001b[0;34m\u001b[0m\u001b[0;34m\u001b[0m\u001b[0m\n\u001b[0;32m----> 3\u001b[0;31m \u001b[0msns\u001b[0m\u001b[0;34m.\u001b[0m\u001b[0mheatmap\u001b[0m\u001b[0;34m(\u001b[0m\u001b[0mdata\u001b[0m\u001b[0;34m.\u001b[0m\u001b[0mcorr\u001b[0m\u001b[0;34m(\u001b[0m\u001b[0;34m)\u001b[0m\u001b[0;34m,\u001b[0m \u001b[0mannot\u001b[0m \u001b[0;34m=\u001b[0m \u001b[0;32mTrue\u001b[0m\u001b[0;34m,\u001b[0m \u001b[0mcmap\u001b[0m \u001b[0;34m=\u001b[0m \u001b[0;34m'mako'\u001b[0m\u001b[0;34m,\u001b[0m \u001b[0mlinewidths\u001b[0m \u001b[0;34m=\u001b[0m \u001b[0;36m0.1\u001b[0m\u001b[0;34m,\u001b[0m \u001b[0msquare\u001b[0m\u001b[0;34m=\u001b[0m \u001b[0;32mTrue\u001b[0m\u001b[0;34m,\u001b[0m \u001b[0mlinecolor\u001b[0m \u001b[0;34m=\u001b[0m \u001b[0;34m'Black'\u001b[0m\u001b[0;34m)\u001b[0m\u001b[0;34m\u001b[0m\u001b[0;34m\u001b[0m\u001b[0m\n\u001b[0m\u001b[1;32m      4\u001b[0m \u001b[0mplt\u001b[0m\u001b[0;34m.\u001b[0m\u001b[0myticks\u001b[0m\u001b[0;34m(\u001b[0m\u001b[0mrotation\u001b[0m\u001b[0;34m=\u001b[0m\u001b[0;36m0\u001b[0m\u001b[0;34m)\u001b[0m\u001b[0;34m\u001b[0m\u001b[0;34m\u001b[0m\u001b[0m\n\u001b[1;32m      5\u001b[0m \u001b[0mplt\u001b[0m\u001b[0;34m.\u001b[0m\u001b[0mtitle\u001b[0m\u001b[0;34m(\u001b[0m\u001b[0;34m\"Correlation between features\"\u001b[0m\u001b[0;34m,\u001b[0m \u001b[0mfontsize\u001b[0m\u001b[0;34m=\u001b[0m \u001b[0;36m15\u001b[0m\u001b[0;34m)\u001b[0m\u001b[0;34m\u001b[0m\u001b[0;34m\u001b[0m\u001b[0m\n",
      "\u001b[0;32m~/opt/anaconda3/lib/python3.8/site-packages/pandas/core/frame.py\u001b[0m in \u001b[0;36mcorr\u001b[0;34m(self, method, min_periods, numeric_only)\u001b[0m\n\u001b[1;32m  10052\u001b[0m         \u001b[0mcols\u001b[0m \u001b[0;34m=\u001b[0m \u001b[0mdata\u001b[0m\u001b[0;34m.\u001b[0m\u001b[0mcolumns\u001b[0m\u001b[0;34m\u001b[0m\u001b[0;34m\u001b[0m\u001b[0m\n\u001b[1;32m  10053\u001b[0m         \u001b[0midx\u001b[0m \u001b[0;34m=\u001b[0m \u001b[0mcols\u001b[0m\u001b[0;34m.\u001b[0m\u001b[0mcopy\u001b[0m\u001b[0;34m(\u001b[0m\u001b[0;34m)\u001b[0m\u001b[0;34m\u001b[0m\u001b[0;34m\u001b[0m\u001b[0m\n\u001b[0;32m> 10054\u001b[0;31m         \u001b[0mmat\u001b[0m \u001b[0;34m=\u001b[0m \u001b[0mdata\u001b[0m\u001b[0;34m.\u001b[0m\u001b[0mto_numpy\u001b[0m\u001b[0;34m(\u001b[0m\u001b[0mdtype\u001b[0m\u001b[0;34m=\u001b[0m\u001b[0mfloat\u001b[0m\u001b[0;34m,\u001b[0m \u001b[0mna_value\u001b[0m\u001b[0;34m=\u001b[0m\u001b[0mnp\u001b[0m\u001b[0;34m.\u001b[0m\u001b[0mnan\u001b[0m\u001b[0;34m,\u001b[0m \u001b[0mcopy\u001b[0m\u001b[0;34m=\u001b[0m\u001b[0;32mFalse\u001b[0m\u001b[0;34m)\u001b[0m\u001b[0;34m\u001b[0m\u001b[0;34m\u001b[0m\u001b[0m\n\u001b[0m\u001b[1;32m  10055\u001b[0m \u001b[0;34m\u001b[0m\u001b[0m\n\u001b[1;32m  10056\u001b[0m         \u001b[0;32mif\u001b[0m \u001b[0mmethod\u001b[0m \u001b[0;34m==\u001b[0m \u001b[0;34m\"pearson\"\u001b[0m\u001b[0;34m:\u001b[0m\u001b[0;34m\u001b[0m\u001b[0;34m\u001b[0m\u001b[0m\n",
      "\u001b[0;32m~/opt/anaconda3/lib/python3.8/site-packages/pandas/core/frame.py\u001b[0m in \u001b[0;36mto_numpy\u001b[0;34m(self, dtype, copy, na_value)\u001b[0m\n\u001b[1;32m   1836\u001b[0m         \u001b[0;32mif\u001b[0m \u001b[0mdtype\u001b[0m \u001b[0;32mis\u001b[0m \u001b[0;32mnot\u001b[0m \u001b[0;32mNone\u001b[0m\u001b[0;34m:\u001b[0m\u001b[0;34m\u001b[0m\u001b[0;34m\u001b[0m\u001b[0m\n\u001b[1;32m   1837\u001b[0m             \u001b[0mdtype\u001b[0m \u001b[0;34m=\u001b[0m \u001b[0mnp\u001b[0m\u001b[0;34m.\u001b[0m\u001b[0mdtype\u001b[0m\u001b[0;34m(\u001b[0m\u001b[0mdtype\u001b[0m\u001b[0;34m)\u001b[0m\u001b[0;34m\u001b[0m\u001b[0;34m\u001b[0m\u001b[0m\n\u001b[0;32m-> 1838\u001b[0;31m         \u001b[0mresult\u001b[0m \u001b[0;34m=\u001b[0m \u001b[0mself\u001b[0m\u001b[0;34m.\u001b[0m\u001b[0m_mgr\u001b[0m\u001b[0;34m.\u001b[0m\u001b[0mas_array\u001b[0m\u001b[0;34m(\u001b[0m\u001b[0mdtype\u001b[0m\u001b[0;34m=\u001b[0m\u001b[0mdtype\u001b[0m\u001b[0;34m,\u001b[0m \u001b[0mcopy\u001b[0m\u001b[0;34m=\u001b[0m\u001b[0mcopy\u001b[0m\u001b[0;34m,\u001b[0m \u001b[0mna_value\u001b[0m\u001b[0;34m=\u001b[0m\u001b[0mna_value\u001b[0m\u001b[0;34m)\u001b[0m\u001b[0;34m\u001b[0m\u001b[0;34m\u001b[0m\u001b[0m\n\u001b[0m\u001b[1;32m   1839\u001b[0m         \u001b[0;32mif\u001b[0m \u001b[0mresult\u001b[0m\u001b[0;34m.\u001b[0m\u001b[0mdtype\u001b[0m \u001b[0;32mis\u001b[0m \u001b[0;32mnot\u001b[0m \u001b[0mdtype\u001b[0m\u001b[0;34m:\u001b[0m\u001b[0;34m\u001b[0m\u001b[0;34m\u001b[0m\u001b[0m\n\u001b[1;32m   1840\u001b[0m             \u001b[0mresult\u001b[0m \u001b[0;34m=\u001b[0m \u001b[0mnp\u001b[0m\u001b[0;34m.\u001b[0m\u001b[0marray\u001b[0m\u001b[0;34m(\u001b[0m\u001b[0mresult\u001b[0m\u001b[0;34m,\u001b[0m \u001b[0mdtype\u001b[0m\u001b[0;34m=\u001b[0m\u001b[0mdtype\u001b[0m\u001b[0;34m,\u001b[0m \u001b[0mcopy\u001b[0m\u001b[0;34m=\u001b[0m\u001b[0;32mFalse\u001b[0m\u001b[0;34m)\u001b[0m\u001b[0;34m\u001b[0m\u001b[0;34m\u001b[0m\u001b[0m\n",
      "\u001b[0;32m~/opt/anaconda3/lib/python3.8/site-packages/pandas/core/internals/managers.py\u001b[0m in \u001b[0;36mas_array\u001b[0;34m(self, dtype, copy, na_value)\u001b[0m\n\u001b[1;32m   1730\u001b[0m                 \u001b[0marr\u001b[0m\u001b[0;34m.\u001b[0m\u001b[0mflags\u001b[0m\u001b[0;34m.\u001b[0m\u001b[0mwriteable\u001b[0m \u001b[0;34m=\u001b[0m \u001b[0;32mFalse\u001b[0m\u001b[0;34m\u001b[0m\u001b[0;34m\u001b[0m\u001b[0m\n\u001b[1;32m   1731\u001b[0m         \u001b[0;32melse\u001b[0m\u001b[0;34m:\u001b[0m\u001b[0;34m\u001b[0m\u001b[0;34m\u001b[0m\u001b[0m\n\u001b[0;32m-> 1732\u001b[0;31m             \u001b[0marr\u001b[0m \u001b[0;34m=\u001b[0m \u001b[0mself\u001b[0m\u001b[0;34m.\u001b[0m\u001b[0m_interleave\u001b[0m\u001b[0;34m(\u001b[0m\u001b[0mdtype\u001b[0m\u001b[0;34m=\u001b[0m\u001b[0mdtype\u001b[0m\u001b[0;34m,\u001b[0m \u001b[0mna_value\u001b[0m\u001b[0;34m=\u001b[0m\u001b[0mna_value\u001b[0m\u001b[0;34m)\u001b[0m\u001b[0;34m\u001b[0m\u001b[0;34m\u001b[0m\u001b[0m\n\u001b[0m\u001b[1;32m   1733\u001b[0m             \u001b[0;31m# The underlying data was copied within _interleave, so no need\u001b[0m\u001b[0;34m\u001b[0m\u001b[0;34m\u001b[0m\u001b[0;34m\u001b[0m\u001b[0m\n\u001b[1;32m   1734\u001b[0m             \u001b[0;31m# to further copy if copy=True or setting na_value\u001b[0m\u001b[0;34m\u001b[0m\u001b[0;34m\u001b[0m\u001b[0;34m\u001b[0m\u001b[0m\n",
      "\u001b[0;32m~/opt/anaconda3/lib/python3.8/site-packages/pandas/core/internals/managers.py\u001b[0m in \u001b[0;36m_interleave\u001b[0;34m(self, dtype, na_value)\u001b[0m\n\u001b[1;32m   1792\u001b[0m             \u001b[0;32melse\u001b[0m\u001b[0;34m:\u001b[0m\u001b[0;34m\u001b[0m\u001b[0;34m\u001b[0m\u001b[0m\n\u001b[1;32m   1793\u001b[0m                 \u001b[0marr\u001b[0m \u001b[0;34m=\u001b[0m \u001b[0mblk\u001b[0m\u001b[0;34m.\u001b[0m\u001b[0mget_values\u001b[0m\u001b[0;34m(\u001b[0m\u001b[0mdtype\u001b[0m\u001b[0;34m)\u001b[0m\u001b[0;34m\u001b[0m\u001b[0;34m\u001b[0m\u001b[0m\n\u001b[0;32m-> 1794\u001b[0;31m             \u001b[0mresult\u001b[0m\u001b[0;34m[\u001b[0m\u001b[0mrl\u001b[0m\u001b[0;34m.\u001b[0m\u001b[0mindexer\u001b[0m\u001b[0;34m]\u001b[0m \u001b[0;34m=\u001b[0m \u001b[0marr\u001b[0m\u001b[0;34m\u001b[0m\u001b[0;34m\u001b[0m\u001b[0m\n\u001b[0m\u001b[1;32m   1795\u001b[0m             \u001b[0mitemmask\u001b[0m\u001b[0;34m[\u001b[0m\u001b[0mrl\u001b[0m\u001b[0;34m.\u001b[0m\u001b[0mindexer\u001b[0m\u001b[0;34m]\u001b[0m \u001b[0;34m=\u001b[0m \u001b[0;36m1\u001b[0m\u001b[0;34m\u001b[0m\u001b[0;34m\u001b[0m\u001b[0m\n\u001b[1;32m   1796\u001b[0m \u001b[0;34m\u001b[0m\u001b[0m\n",
      "\u001b[0;31mValueError\u001b[0m: could not convert string to float: ' 36 months'"
     ]
    },
    {
     "data": {
      "text/plain": [
       "<Figure size 720x720 with 0 Axes>"
      ]
     },
     "metadata": {},
     "output_type": "display_data"
    }
   ],
   "source": [
    "#Heat map for correlation\n",
    "plt.figure(figsize=(10,10))\n",
    "sns.heatmap(data.corr(), annot = True, cmap = 'mako', linewidths = 0.1, square= True, linecolor = 'Black')\n",
    "plt.yticks(rotation=0)\n",
    "plt.title(\"Correlation between features\", fontsize= 15)\n",
    "plt.show()"
   ]
  },
  {
   "cell_type": "markdown",
   "metadata": {},
   "source": [
    "Insights:\n",
    "    \n",
    "    The features loan_amnt and installment are more positively correlated with 95% . \n",
    "    pub_rec and pub_rec_bankruptcies are correlated only by 70%.\n",
    "    total_acc and open_acc are 68% correlated.\n",
    "    "
   ]
  },
  {
   "cell_type": "code",
   "execution_count": 29,
   "metadata": {},
   "outputs": [
    {
     "name": "stdout",
     "output_type": "stream",
     "text": [
      "There is -ve relation between loan_status and  loan_amnt - corrcoef:  -0.07\n",
      "There is -ve relation between loan_status and  int_rate - corrcoef:  -0.25\n",
      "There is -ve relation between loan_status and  installment - corrcoef:  -0.05\n",
      "There is +ve relation between loan_status and annual_inc - corrcoef:  0.08\n",
      "There is -ve relation between loan_status and  dti - corrcoef:  -0.13\n",
      "There is -ve relation between loan_status and  open_acc - corrcoef:  -0.03\n",
      "There is -ve relation between loan_status and  pub_rec - corrcoef:  -0.02\n",
      "There is -ve relation between loan_status and  revol_bal - corrcoef:  -0.0\n",
      "There is -ve relation between loan_status and  revol_util - corrcoef:  -0.08\n",
      "There is +ve relation between loan_status and total_acc - corrcoef:  0.02\n",
      "There is +ve relation between loan_status and mort_acc - corrcoef:  0.08\n",
      "There is -ve relation between loan_status and  pub_rec_bankruptcies - corrcoef:  -0.01\n"
     ]
    }
   ],
   "source": [
    "#correlation using spearmsmans corr coeff\n",
    "for col in num_cols:\n",
    "    val = np.corrcoef(data[col].rank(), data['loan_status'].rank())[0,1]\n",
    "    if val> 0 :\n",
    "        print('There is +ve relation between loan_status and', col,\"- corrcoef: \",np.round(val,2))\n",
    "    if val == 0:\n",
    "        print('There is no relation between loan_status and ', col,\"- corrcoef: \",np.round(val,2))\n",
    "    if val< 0:\n",
    "        print('There is -ve relation between loan_status and ', col,\"- corrcoef: \",np.round(val,2))"
   ]
  },
  {
   "cell_type": "markdown",
   "metadata": {},
   "source": [
    "### OUTLIER DETECTION AND TREATMENT"
   ]
  },
  {
   "cell_type": "code",
   "execution_count": 30,
   "metadata": {},
   "outputs": [
    {
     "data": {
      "text/plain": [
       "0"
      ]
     },
     "execution_count": 30,
     "metadata": {},
     "output_type": "execute_result"
    }
   ],
   "source": [
    "data.duplicated().sum()"
   ]
  },
  {
   "cell_type": "code",
   "execution_count": 31,
   "metadata": {},
   "outputs": [
    {
     "data": {
      "image/png": "[encoded data removed]",
      "text/plain": [
       "<Figure size 1440x1296 with 12 Axes>"
      ]
     },
     "metadata": {},
     "output_type": "display_data"
    }
   ],
   "source": [
    "#Outlier detection on numerical features\n",
    "fig = plt.figure(figsize=(20,18))\n",
    "for i,col in enumerate(num_cols):\n",
    "    plt.subplot(int(len(num_cols)/2 +1), 2, i+1)\n",
    "    plt.subplots_adjust(left=0.1, right=0.9, top=0.9, bottom=0.1, wspace=0.3, hspace=0.6)\n",
    "    sns.boxplot(x=data[col] )\n",
    "    plt.xlabel(col,fontsize =15, color = 'blue')\n",
    "    #plt.ylabel(\"count of bikes\", fontsize = 15, color = 'blue')\n",
    "fig.suptitle(\"Outliers in Numerical cols \", fontsize= 20, color = 'blue')\n",
    "plt.show()"
   ]
  },
  {
   "cell_type": "markdown",
   "metadata": {},
   "source": [
    "Insights:\n",
    "      \n",
    "        From the above boxplot we can say that there are outliers in all the numerical features."
   ]
  },
  {
   "cell_type": "code",
   "execution_count": 32,
   "metadata": {},
   "outputs": [],
   "source": [
    "# IQR based outlier detection\n",
    "def iqr_outliers(col):\n",
    "  q1 = np.percentile(col, 25)\n",
    "  q3 = np.percentile(col, 75)\n",
    "  iqr = q3 - q1\n",
    "  lower_bound = q1 - 1.5 * iqr\n",
    "  upper_bound = q3 + 1.5 * iqr\n",
    "  outliers = [i for i, value in enumerate(col) if value < lower_bound or value > upper_bound]\n",
    "  return outliers"
   ]
  },
  {
   "cell_type": "code",
   "execution_count": 33,
   "metadata": {},
   "outputs": [
    {
     "name": "stdout",
     "output_type": "stream",
     "text": [
      "Outliers in the data:\n",
      "\n",
      "There are 0.05% in \"loan_amnt\"\n",
      "There are 0.95% in \"int_rate\"\n",
      "There are 2.77% in \"installment\"\n",
      "There are 4.42% in \"annual_inc\"\n",
      "There are 0.06% in \"dti\"\n",
      "There are 2.65% in \"open_acc\"\n",
      "There are 14.13% in \"pub_rec\"\n",
      "There are 5.35% in \"revol_bal\"\n",
      "There are 0.0% in \"revol_util\"\n",
      "There are 2.16% in \"total_acc\"\n",
      "There are 1.72% in \"mort_acc\"\n",
      "There are 10.98% in \"pub_rec_bankruptcies\"\n"
     ]
    }
   ],
   "source": [
    "outliers= {}\n",
    "print(\"Outliers in the data:\\n\")\n",
    "for col in num_cols:\n",
    "    outliers[col] = iqr_outliers(data[col])\n",
    "    print(f'There are {round((len(outliers[col])/data.shape[0])*100,2)}% in \"{col}\"')"
   ]
  },
  {
   "cell_type": "code",
   "execution_count": 34,
   "metadata": {},
   "outputs": [
    {
     "data": {
      "text/plain": [
       "(344054, 27)"
      ]
     },
     "execution_count": 34,
     "metadata": {},
     "output_type": "execute_result"
    }
   ],
   "source": [
    "#outlier treatment: minimizing outliers by setting upperand lower limits as mean+/-std\n",
    "for col in num_cols:\n",
    "    mean=data[col].mean()\n",
    "    std=data[col].std()\n",
    "    \n",
    "    upper_limit=mean+3*std\n",
    "    lower_limit=mean-3*std\n",
    "    \n",
    "    data=data[(data[col]<upper_limit) & (data[col]>lower_limit)]\n",
    "    \n",
    "data.shape"
   ]
  },
  {
   "cell_type": "markdown",
   "metadata": {},
   "source": [
    "Insights:\n",
    "    \n",
    "    From the above method 5% of data has been discarded considering them as potential outliers."
   ]
  },
  {
   "cell_type": "markdown",
   "metadata": {},
   "source": [
    "## Feature Engineering & Data Preprocessing"
   ]
  },
  {
   "cell_type": "markdown",
   "metadata": {},
   "source": [
    "### ENCODING"
   ]
  },
  {
   "cell_type": "markdown",
   "metadata": {},
   "source": [
    "For encoding a feature let us first check the no of unique values in each category. \n",
    "This will help us choosing the type of encoding to be applied."
   ]
  },
  {
   "attachments": {},
   "cell_type": "markdown",
   "metadata": {},
   "source": [
    "There are total 24 features in our data.\n",
    "\n",
    "    - 'loan_status' is target feature.\n",
    "    - Categorical columns: \n",
    "    ['term', 'grade', 'sub_grade', 'emp_length', 'home_ownership', 'verification_status', \n",
    "     'issue_d', 'loan_status', 'purpose', 'title', 'earliest_cr_line', 'initial_list_status', 'application_type', \n",
    "     'address']\n",
    "    - Numerical columns:\n",
    "    ['loan_amnt', 'int_rate', 'installment', 'annual_inc', 'dti', 'open_acc', 'pub_rec', 'revol_bal', \n",
    "     'revol_util', 'total_acc', 'mort_acc', 'pub_rec_bankruptcies']\n",
    "   \n",
    "   Out of these following are the required fields based on the feature description:\n",
    "           term,int_rate,installment,gradeemp_title,home_ownership,annual_inc,verification_status,loan_status,purpose,dti,open_acc,pub_rec,revol_bal,revol_util,total_acc,initial_list_status, application_type,mort_acc ,pub_rec_bankruptcies\n",
    "\n",
    "    Below are the features that can be discarded:\n",
    "    \n",
    "        sub_grade, emp_length, issue_d, title,earliest_cr_line,Address"
   ]
  },
  {
   "cell_type": "markdown",
   "metadata": {},
   "source": [
    "Let us extract zipcode from address begore dropping address column."
   ]
  },
  {
   "cell_type": "code",
   "execution_count": 35,
   "metadata": {},
   "outputs": [
    {
     "data": {
      "text/plain": [
       "107424      58605 Campbell Shoal\\r\\nAlexandraberg, MO 29597\n",
       "133804    2828 Diane Street Apt. 915\\r\\nJessicaview, MI ...\n",
       "284329    17578 Wallace Mountains\\r\\nNorth Kimberlyborou...\n",
       "234883    2335 Heather Courts Suite 308\\r\\nLake Thomasto...\n",
       "167857             5321 Shawn Wells\\r\\nNicolebury, CA 70466\n",
       "Name: address, dtype: object"
      ]
     },
     "execution_count": 35,
     "metadata": {},
     "output_type": "execute_result"
    }
   ],
   "source": [
    "data['address'].sample(5)"
   ]
  },
  {
   "cell_type": "code",
   "execution_count": 36,
   "metadata": {},
   "outputs": [],
   "source": [
    "# Deriving zip code and state from address\n",
    "data['zip_code'] = data['address'].apply(lambda x: pd.Series(x[-5:]))"
   ]
  },
  {
   "cell_type": "code",
   "execution_count": 37,
   "metadata": {},
   "outputs": [],
   "source": [
    "#dropping unwanted columns\n",
    "data.drop(columns=['sub_grade','emp_title','emp_length', 'issue_d', 'title','earliest_cr_line','address'], axis=1, \n",
    "          inplace=True)"
   ]
  },
  {
   "cell_type": "code",
   "execution_count": 38,
   "metadata": {},
   "outputs": [],
   "source": [
    "#Since there are only 10 zipcodes, we can change the datatype of zipcodes to categorical\n",
    "data['zip_code'] = data['zip_code'].astype('object')"
   ]
  },
  {
   "cell_type": "code",
   "execution_count": 39,
   "metadata": {},
   "outputs": [
    {
     "data": {
      "text/plain": [
       "['term',\n",
       " 'grade',\n",
       " 'home_ownership',\n",
       " 'verification_status',\n",
       " 'purpose',\n",
       " 'initial_list_status',\n",
       " 'application_type',\n",
       " 'zip_code']"
      ]
     },
     "execution_count": 39,
     "metadata": {},
     "output_type": "execute_result"
    }
   ],
   "source": [
    "#updated cat_cols and num_cols\n",
    "cat_cols = list(data.columns[(data.dtypes=='object') & (data.columns!='loan_status')])\n",
    "cat_cols"
   ]
  },
  {
   "cell_type": "code",
   "execution_count": 40,
   "metadata": {},
   "outputs": [
    {
     "name": "stdout",
     "output_type": "stream",
     "text": [
      "term : 2 [' 36 months' ' 60 months']\n",
      "grade : 7 ['B' 'A' 'C' 'E' 'D' 'F' 'G']\n",
      "home_ownership : 6 ['RENT' 'MORTGAGE' 'OWN' 'OTHER' 'ANY' 'NONE']\n",
      "verification_status : 3 ['Not Verified' 'Source Verified' 'Verified']\n",
      "purpose : 14 ['vacation' 'debt_consolidation' 'credit_card' 'home_improvement'\n",
      " 'small_business' 'major_purchase' 'other' 'medical' 'wedding' 'car'\n",
      " 'moving' 'house' 'educational' 'renewable_energy']\n",
      "initial_list_status : 2 ['w' 'f']\n",
      "application_type : 3 ['INDIVIDUAL' 'JOINT' 'DIRECT_PAY']\n",
      "zip_code : 10 ['22690' '05113' '00813' '11650' '30723' '70466' '29597' '48052' '86630'\n",
      " '93700']\n"
     ]
    }
   ],
   "source": [
    "for col in cat_cols:\n",
    "    print(col,\":\",data[col].nunique(), data[col].unique())"
   ]
  },
  {
   "cell_type": "markdown",
   "metadata": {},
   "source": [
    "### Creation of Flags\n",
    "\n",
    "If value greater than 1.0 then 1 else 0. This can be done on:\n",
    "\n",
    "1. pub_rec\n",
    "2. mort_acc\n",
    "3. pub_rec_bankruptcies"
   ]
  },
  {
   "cell_type": "code",
   "execution_count": 41,
   "metadata": {},
   "outputs": [],
   "source": [
    "def pub_rec(number):\n",
    "    if number == 0.0:\n",
    "        return 0\n",
    "    else:\n",
    "        return 1\n",
    "    \n",
    "def mort_acc(number):\n",
    "    if number == 0.0:\n",
    "        return 0\n",
    "    elif number >= 1.0:\n",
    "        return 1\n",
    "    else:\n",
    "        return number\n",
    "    \n",
    "    \n",
    "def pub_rec_bankruptcies(number):\n",
    "    if number == 0.0:\n",
    "        return 0\n",
    "    elif number >= 1.0:\n",
    "        return 1\n",
    "    else:\n",
    "        return number"
   ]
  },
  {
   "cell_type": "code",
   "execution_count": 42,
   "metadata": {},
   "outputs": [],
   "source": [
    "data['pub_rec']=data.pub_rec.apply(pub_rec)\n",
    "data['mort_acc']=data.mort_acc.apply(mort_acc)\n",
    "data['pub_rec_bankruptcies']=data.pub_rec_bankruptcies.apply(pub_rec_bankruptcies)"
   ]
  },
  {
   "cell_type": "code",
   "execution_count": 43,
   "metadata": {},
   "outputs": [],
   "source": [
    "#categorical columns encoding\n",
    "\n",
    "# Converting term values to numerical val\n",
    "term_values={' 36 months': 36, ' 60 months':60}\n",
    "data['term'] = data.term.map(term_values)\n",
    "\n",
    "# Mapping the target variable\n",
    "data['loan_status']=data.loan_status.map({'Fully Paid':0, 'Charged Off':1})\n",
    "\n",
    "# Initial List Status\n",
    "list_status = {'w': 0, 'f': 1}\n",
    "data['initial_list_status'] = data.initial_list_status.map(list_status)\n"
   ]
  },
  {
   "cell_type": "code",
   "execution_count": 44,
   "metadata": {},
   "outputs": [
    {
     "data": {
      "text/plain": [
       "Index(['grade', 'home_ownership', 'verification_status', 'purpose',\n",
       "       'application_type', 'zip_code'],\n",
       "      dtype='object')"
      ]
     },
     "execution_count": 44,
     "metadata": {},
     "output_type": "execute_result"
    }
   ],
   "source": [
    "data.select_dtypes('object').columns"
   ]
  },
  {
   "cell_type": "code",
   "execution_count": 45,
   "metadata": {},
   "outputs": [
    {
     "data": {
      "text/plain": [
       "Index(['grade', 'home_ownership', 'verification_status', 'purpose',\n",
       "       'application_type', 'zip_code'],\n",
       "      dtype='object')"
      ]
     },
     "execution_count": 45,
     "metadata": {},
     "output_type": "execute_result"
    }
   ],
   "source": [
    "data.select_dtypes('object').columns"
   ]
  },
  {
   "cell_type": "code",
   "execution_count": 62,
   "metadata": {},
   "outputs": [
    {
     "data": {
      "text/plain": [
       "(344054, 21)"
      ]
     },
     "execution_count": 62,
     "metadata": {},
     "output_type": "execute_result"
    }
   ],
   "source": [
    "data.shape"
   ]
  },
  {
   "cell_type": "code",
   "execution_count": 64,
   "metadata": {},
   "outputs": [
    {
     "name": "stdout",
     "output_type": "stream",
     "text": [
      "loan_amnt : 10000.0\n",
      "term : 36\n",
      "int_rate : 11.44\n",
      "installment : 329.48\n",
      "grade : B\n",
      "home_ownership : RENT\n",
      "annual_inc : 117000.0\n",
      "verification_status : Not Verified\n",
      "loan_status : 0\n",
      "purpose : vacation\n",
      "dti : 26.24\n",
      "open_acc : 16.0\n",
      "pub_rec : 0\n",
      "revol_bal : 36369.0\n",
      "revol_util : 41.8\n",
      "total_acc : 25.0\n",
      "initial_list_status : 0\n",
      "application_type : INDIVIDUAL\n",
      "mort_acc : 0\n",
      "pub_rec_bankruptcies : 0\n",
      "zip_code : 22690\n"
     ]
    }
   ],
   "source": [
    "for col in list(data.columns):\n",
    "    print(col,':',data[col][0])"
   ]
  },
  {
   "cell_type": "code",
   "execution_count": 61,
   "metadata": {},
   "outputs": [
    {
     "data": {
      "text/html": [
       "<div>\n",
       "<style scoped>\n",
       "    .dataframe tbody tr th:only-of-type {\n",
       "        vertical-align: middle;\n",
       "    }\n",
       "\n",
       "    .dataframe tbody tr th {\n",
       "        vertical-align: top;\n",
       "    }\n",
       "\n",
       "    .dataframe thead th {\n",
       "        text-align: right;\n",
       "    }\n",
       "</style>\n",
       "<table border=\"1\" class=\"dataframe\">\n",
       "  <thead>\n",
       "    <tr style=\"text-align: right;\">\n",
       "      <th></th>\n",
       "      <th>loan_amnt</th>\n",
       "      <th>term</th>\n",
       "      <th>int_rate</th>\n",
       "      <th>installment</th>\n",
       "      <th>grade</th>\n",
       "      <th>home_ownership</th>\n",
       "      <th>annual_inc</th>\n",
       "      <th>verification_status</th>\n",
       "      <th>loan_status</th>\n",
       "      <th>purpose</th>\n",
       "      <th>...</th>\n",
       "      <th>open_acc</th>\n",
       "      <th>pub_rec</th>\n",
       "      <th>revol_bal</th>\n",
       "      <th>revol_util</th>\n",
       "      <th>total_acc</th>\n",
       "      <th>initial_list_status</th>\n",
       "      <th>application_type</th>\n",
       "      <th>mort_acc</th>\n",
       "      <th>pub_rec_bankruptcies</th>\n",
       "      <th>zip_code</th>\n",
       "    </tr>\n",
       "  </thead>\n",
       "  <tbody>\n",
       "    <tr>\n",
       "      <th>0</th>\n",
       "      <td>10000.0</td>\n",
       "      <td>36</td>\n",
       "      <td>11.44</td>\n",
       "      <td>329.48</td>\n",
       "      <td>B</td>\n",
       "      <td>RENT</td>\n",
       "      <td>117000.0</td>\n",
       "      <td>Not Verified</td>\n",
       "      <td>0</td>\n",
       "      <td>vacation</td>\n",
       "      <td>...</td>\n",
       "      <td>16.0</td>\n",
       "      <td>0</td>\n",
       "      <td>36369.0</td>\n",
       "      <td>41.8</td>\n",
       "      <td>25.0</td>\n",
       "      <td>0</td>\n",
       "      <td>INDIVIDUAL</td>\n",
       "      <td>0</td>\n",
       "      <td>0</td>\n",
       "      <td>22690</td>\n",
       "    </tr>\n",
       "    <tr>\n",
       "      <th>1</th>\n",
       "      <td>8000.0</td>\n",
       "      <td>36</td>\n",
       "      <td>11.99</td>\n",
       "      <td>265.68</td>\n",
       "      <td>B</td>\n",
       "      <td>MORTGAGE</td>\n",
       "      <td>65000.0</td>\n",
       "      <td>Not Verified</td>\n",
       "      <td>0</td>\n",
       "      <td>debt_consolidation</td>\n",
       "      <td>...</td>\n",
       "      <td>17.0</td>\n",
       "      <td>0</td>\n",
       "      <td>20131.0</td>\n",
       "      <td>53.3</td>\n",
       "      <td>27.0</td>\n",
       "      <td>1</td>\n",
       "      <td>INDIVIDUAL</td>\n",
       "      <td>1</td>\n",
       "      <td>0</td>\n",
       "      <td>05113</td>\n",
       "    </tr>\n",
       "    <tr>\n",
       "      <th>2</th>\n",
       "      <td>15600.0</td>\n",
       "      <td>36</td>\n",
       "      <td>10.49</td>\n",
       "      <td>506.97</td>\n",
       "      <td>B</td>\n",
       "      <td>RENT</td>\n",
       "      <td>43057.0</td>\n",
       "      <td>Source Verified</td>\n",
       "      <td>0</td>\n",
       "      <td>credit_card</td>\n",
       "      <td>...</td>\n",
       "      <td>13.0</td>\n",
       "      <td>0</td>\n",
       "      <td>11987.0</td>\n",
       "      <td>92.2</td>\n",
       "      <td>26.0</td>\n",
       "      <td>1</td>\n",
       "      <td>INDIVIDUAL</td>\n",
       "      <td>0</td>\n",
       "      <td>0</td>\n",
       "      <td>05113</td>\n",
       "    </tr>\n",
       "    <tr>\n",
       "      <th>3</th>\n",
       "      <td>7200.0</td>\n",
       "      <td>36</td>\n",
       "      <td>6.49</td>\n",
       "      <td>220.65</td>\n",
       "      <td>A</td>\n",
       "      <td>RENT</td>\n",
       "      <td>54000.0</td>\n",
       "      <td>Not Verified</td>\n",
       "      <td>0</td>\n",
       "      <td>credit_card</td>\n",
       "      <td>...</td>\n",
       "      <td>6.0</td>\n",
       "      <td>0</td>\n",
       "      <td>5472.0</td>\n",
       "      <td>21.5</td>\n",
       "      <td>13.0</td>\n",
       "      <td>1</td>\n",
       "      <td>INDIVIDUAL</td>\n",
       "      <td>0</td>\n",
       "      <td>0</td>\n",
       "      <td>00813</td>\n",
       "    </tr>\n",
       "    <tr>\n",
       "      <th>4</th>\n",
       "      <td>24375.0</td>\n",
       "      <td>60</td>\n",
       "      <td>17.27</td>\n",
       "      <td>609.33</td>\n",
       "      <td>C</td>\n",
       "      <td>MORTGAGE</td>\n",
       "      <td>55000.0</td>\n",
       "      <td>Verified</td>\n",
       "      <td>1</td>\n",
       "      <td>credit_card</td>\n",
       "      <td>...</td>\n",
       "      <td>13.0</td>\n",
       "      <td>0</td>\n",
       "      <td>24584.0</td>\n",
       "      <td>69.8</td>\n",
       "      <td>43.0</td>\n",
       "      <td>1</td>\n",
       "      <td>INDIVIDUAL</td>\n",
       "      <td>1</td>\n",
       "      <td>0</td>\n",
       "      <td>11650</td>\n",
       "    </tr>\n",
       "  </tbody>\n",
       "</table>\n",
       "<p>5 rows × 21 columns</p>\n",
       "</div>"
      ],
      "text/plain": [
       "   loan_amnt  term  int_rate  installment grade home_ownership  annual_inc  \\\n",
       "0    10000.0    36     11.44       329.48     B           RENT    117000.0   \n",
       "1     8000.0    36     11.99       265.68     B       MORTGAGE     65000.0   \n",
       "2    15600.0    36     10.49       506.97     B           RENT     43057.0   \n",
       "3     7200.0    36      6.49       220.65     A           RENT     54000.0   \n",
       "4    24375.0    60     17.27       609.33     C       MORTGAGE     55000.0   \n",
       "\n",
       "  verification_status  loan_status             purpose  ...  open_acc  \\\n",
       "0        Not Verified            0            vacation  ...      16.0   \n",
       "1        Not Verified            0  debt_consolidation  ...      17.0   \n",
       "2     Source Verified            0         credit_card  ...      13.0   \n",
       "3        Not Verified            0         credit_card  ...       6.0   \n",
       "4            Verified            1         credit_card  ...      13.0   \n",
       "\n",
       "   pub_rec  revol_bal  revol_util  total_acc  initial_list_status  \\\n",
       "0        0    36369.0        41.8       25.0                    0   \n",
       "1        0    20131.0        53.3       27.0                    1   \n",
       "2        0    11987.0        92.2       26.0                    1   \n",
       "3        0     5472.0        21.5       13.0                    1   \n",
       "4        0    24584.0        69.8       43.0                    1   \n",
       "\n",
       "   application_type mort_acc  pub_rec_bankruptcies  zip_code  \n",
       "0        INDIVIDUAL        0                     0     22690  \n",
       "1        INDIVIDUAL        1                     0     05113  \n",
       "2        INDIVIDUAL        0                     0     05113  \n",
       "3        INDIVIDUAL        0                     0     00813  \n",
       "4        INDIVIDUAL        1                     0     11650  \n",
       "\n",
       "[5 rows x 21 columns]"
      ]
     },
     "execution_count": 61,
     "metadata": {},
     "output_type": "execute_result"
    }
   ],
   "source": [
    "data.head()"
   ]
  },
  {
   "cell_type": "code",
   "execution_count": 57,
   "metadata": {},
   "outputs": [
    {
     "data": {
      "text/html": [
       "<div>\n",
       "<style scoped>\n",
       "    .dataframe tbody tr th:only-of-type {\n",
       "        vertical-align: middle;\n",
       "    }\n",
       "\n",
       "    .dataframe tbody tr th {\n",
       "        vertical-align: top;\n",
       "    }\n",
       "\n",
       "    .dataframe thead th {\n",
       "        text-align: right;\n",
       "    }\n",
       "</style>\n",
       "<table border=\"1\" class=\"dataframe\">\n",
       "  <thead>\n",
       "    <tr style=\"text-align: right;\">\n",
       "      <th></th>\n",
       "      <th>loan_amnt</th>\n",
       "      <th>term</th>\n",
       "      <th>int_rate</th>\n",
       "      <th>installment</th>\n",
       "      <th>annual_inc</th>\n",
       "      <th>loan_status</th>\n",
       "      <th>dti</th>\n",
       "      <th>open_acc</th>\n",
       "      <th>pub_rec</th>\n",
       "      <th>revol_bal</th>\n",
       "      <th>...</th>\n",
       "      <th>zip_code_00813</th>\n",
       "      <th>zip_code_05113</th>\n",
       "      <th>zip_code_11650</th>\n",
       "      <th>zip_code_22690</th>\n",
       "      <th>zip_code_29597</th>\n",
       "      <th>zip_code_30723</th>\n",
       "      <th>zip_code_48052</th>\n",
       "      <th>zip_code_70466</th>\n",
       "      <th>zip_code_86630</th>\n",
       "      <th>zip_code_93700</th>\n",
       "    </tr>\n",
       "  </thead>\n",
       "  <tbody>\n",
       "    <tr>\n",
       "      <th>0</th>\n",
       "      <td>10000.0</td>\n",
       "      <td>36.0</td>\n",
       "      <td>11.44</td>\n",
       "      <td>329.48</td>\n",
       "      <td>117000.0</td>\n",
       "      <td>0.0</td>\n",
       "      <td>26.24</td>\n",
       "      <td>16.0</td>\n",
       "      <td>0.0</td>\n",
       "      <td>36369.0</td>\n",
       "      <td>...</td>\n",
       "      <td>0.0</td>\n",
       "      <td>0.0</td>\n",
       "      <td>0.0</td>\n",
       "      <td>1.0</td>\n",
       "      <td>0.0</td>\n",
       "      <td>0.0</td>\n",
       "      <td>0.0</td>\n",
       "      <td>0.0</td>\n",
       "      <td>0.0</td>\n",
       "      <td>0.0</td>\n",
       "    </tr>\n",
       "    <tr>\n",
       "      <th>1</th>\n",
       "      <td>8000.0</td>\n",
       "      <td>36.0</td>\n",
       "      <td>11.99</td>\n",
       "      <td>265.68</td>\n",
       "      <td>65000.0</td>\n",
       "      <td>0.0</td>\n",
       "      <td>22.05</td>\n",
       "      <td>17.0</td>\n",
       "      <td>0.0</td>\n",
       "      <td>20131.0</td>\n",
       "      <td>...</td>\n",
       "      <td>0.0</td>\n",
       "      <td>1.0</td>\n",
       "      <td>0.0</td>\n",
       "      <td>0.0</td>\n",
       "      <td>0.0</td>\n",
       "      <td>0.0</td>\n",
       "      <td>0.0</td>\n",
       "      <td>0.0</td>\n",
       "      <td>0.0</td>\n",
       "      <td>0.0</td>\n",
       "    </tr>\n",
       "    <tr>\n",
       "      <th>2</th>\n",
       "      <td>15600.0</td>\n",
       "      <td>36.0</td>\n",
       "      <td>10.49</td>\n",
       "      <td>506.97</td>\n",
       "      <td>43057.0</td>\n",
       "      <td>0.0</td>\n",
       "      <td>12.79</td>\n",
       "      <td>13.0</td>\n",
       "      <td>0.0</td>\n",
       "      <td>11987.0</td>\n",
       "      <td>...</td>\n",
       "      <td>0.0</td>\n",
       "      <td>1.0</td>\n",
       "      <td>0.0</td>\n",
       "      <td>0.0</td>\n",
       "      <td>0.0</td>\n",
       "      <td>0.0</td>\n",
       "      <td>0.0</td>\n",
       "      <td>0.0</td>\n",
       "      <td>0.0</td>\n",
       "      <td>0.0</td>\n",
       "    </tr>\n",
       "    <tr>\n",
       "      <th>3</th>\n",
       "      <td>7200.0</td>\n",
       "      <td>36.0</td>\n",
       "      <td>6.49</td>\n",
       "      <td>220.65</td>\n",
       "      <td>54000.0</td>\n",
       "      <td>0.0</td>\n",
       "      <td>2.60</td>\n",
       "      <td>6.0</td>\n",
       "      <td>0.0</td>\n",
       "      <td>5472.0</td>\n",
       "      <td>...</td>\n",
       "      <td>1.0</td>\n",
       "      <td>0.0</td>\n",
       "      <td>0.0</td>\n",
       "      <td>0.0</td>\n",
       "      <td>0.0</td>\n",
       "      <td>0.0</td>\n",
       "      <td>0.0</td>\n",
       "      <td>0.0</td>\n",
       "      <td>0.0</td>\n",
       "      <td>0.0</td>\n",
       "    </tr>\n",
       "    <tr>\n",
       "      <th>4</th>\n",
       "      <td>24375.0</td>\n",
       "      <td>60.0</td>\n",
       "      <td>17.27</td>\n",
       "      <td>609.33</td>\n",
       "      <td>55000.0</td>\n",
       "      <td>1.0</td>\n",
       "      <td>33.95</td>\n",
       "      <td>13.0</td>\n",
       "      <td>0.0</td>\n",
       "      <td>24584.0</td>\n",
       "      <td>...</td>\n",
       "      <td>0.0</td>\n",
       "      <td>0.0</td>\n",
       "      <td>1.0</td>\n",
       "      <td>0.0</td>\n",
       "      <td>0.0</td>\n",
       "      <td>0.0</td>\n",
       "      <td>0.0</td>\n",
       "      <td>0.0</td>\n",
       "      <td>0.0</td>\n",
       "      <td>0.0</td>\n",
       "    </tr>\n",
       "  </tbody>\n",
       "</table>\n",
       "<p>5 rows × 58 columns</p>\n",
       "</div>"
      ],
      "text/plain": [
       "   loan_amnt  term  int_rate  installment  annual_inc  loan_status    dti  \\\n",
       "0    10000.0  36.0     11.44       329.48    117000.0          0.0  26.24   \n",
       "1     8000.0  36.0     11.99       265.68     65000.0          0.0  22.05   \n",
       "2    15600.0  36.0     10.49       506.97     43057.0          0.0  12.79   \n",
       "3     7200.0  36.0      6.49       220.65     54000.0          0.0   2.60   \n",
       "4    24375.0  60.0     17.27       609.33     55000.0          1.0  33.95   \n",
       "\n",
       "   open_acc  pub_rec  revol_bal  ...  zip_code_00813  zip_code_05113  \\\n",
       "0      16.0      0.0    36369.0  ...             0.0             0.0   \n",
       "1      17.0      0.0    20131.0  ...             0.0             1.0   \n",
       "2      13.0      0.0    11987.0  ...             0.0             1.0   \n",
       "3       6.0      0.0     5472.0  ...             1.0             0.0   \n",
       "4      13.0      0.0    24584.0  ...             0.0             0.0   \n",
       "\n",
       "   zip_code_11650  zip_code_22690  zip_code_29597  zip_code_30723  \\\n",
       "0             0.0             1.0             0.0             0.0   \n",
       "1             0.0             0.0             0.0             0.0   \n",
       "2             0.0             0.0             0.0             0.0   \n",
       "3             0.0             0.0             0.0             0.0   \n",
       "4             1.0             0.0             0.0             0.0   \n",
       "\n",
       "   zip_code_48052  zip_code_70466  zip_code_86630  zip_code_93700  \n",
       "0             0.0             0.0             0.0             0.0  \n",
       "1             0.0             0.0             0.0             0.0  \n",
       "2             0.0             0.0             0.0             0.0  \n",
       "3             0.0             0.0             0.0             0.0  \n",
       "4             0.0             0.0             0.0             0.0  \n",
       "\n",
       "[5 rows x 58 columns]"
      ]
     },
     "execution_count": 57,
     "metadata": {},
     "output_type": "execute_result"
    }
   ],
   "source": [
    "#implementing one-hot encoding for categorical columns\n",
    "cat_cols_en = data.select_dtypes('object').columns\n",
    "\n",
    "encoder = OneHotEncoder(sparse=False)\n",
    "encoded_data = encoder.fit_transform(data[cat_cols_en])\n",
    "\n",
    "import pickle\n",
    "with open('encoder_object.pickle','wb') as file:\n",
    "    pickle.dump(encoder,file)\n",
    "    \n",
    "encoded_df = pd.DataFrame(encoded_data, columns=encoder.get_feature_names_out(cat_cols_en))\n",
    "data_en = pd.concat([data,encoded_df], axis=1)\n",
    "data_en.drop(columns=cat_cols_en, inplace=True)\n",
    "data_en.head()"
   ]
  },
  {
   "cell_type": "code",
   "execution_count": 47,
   "metadata": {},
   "outputs": [
    {
     "data": {
      "text/plain": [
       "Index(['loan_amnt', 'term', 'int_rate', 'installment', 'annual_inc',\n",
       "       'loan_status', 'dti', 'open_acc', 'pub_rec', 'revol_bal', 'revol_util',\n",
       "       'total_acc', 'initial_list_status', 'mort_acc', 'pub_rec_bankruptcies',\n",
       "       'grade_A', 'grade_B', 'grade_C', 'grade_D', 'grade_E', 'grade_F',\n",
       "       'grade_G', 'home_ownership_ANY', 'home_ownership_MORTGAGE',\n",
       "       'home_ownership_NONE', 'home_ownership_OTHER', 'home_ownership_OWN',\n",
       "       'home_ownership_RENT', 'verification_status_Not Verified',\n",
       "       'verification_status_Source Verified', 'verification_status_Verified',\n",
       "       'purpose_car', 'purpose_credit_card', 'purpose_debt_consolidation',\n",
       "       'purpose_educational', 'purpose_home_improvement', 'purpose_house',\n",
       "       'purpose_major_purchase', 'purpose_medical', 'purpose_moving',\n",
       "       'purpose_other', 'purpose_renewable_energy', 'purpose_small_business',\n",
       "       'purpose_vacation', 'purpose_wedding', 'application_type_DIRECT_PAY',\n",
       "       'application_type_INDIVIDUAL', 'application_type_JOINT',\n",
       "       'zip_code_00813', 'zip_code_05113', 'zip_code_11650', 'zip_code_22690',\n",
       "       'zip_code_29597', 'zip_code_30723', 'zip_code_48052', 'zip_code_70466',\n",
       "       'zip_code_86630', 'zip_code_93700'],\n",
       "      dtype='object')"
      ]
     },
     "execution_count": 47,
     "metadata": {},
     "output_type": "execute_result"
    }
   ],
   "source": [
    "data_en.columns"
   ]
  },
  {
   "cell_type": "code",
   "execution_count": 48,
   "metadata": {},
   "outputs": [],
   "source": [
    "data_en.dropna(inplace=True)"
   ]
  },
  {
   "cell_type": "code",
   "execution_count": 49,
   "metadata": {},
   "outputs": [
    {
     "data": {
      "text/plain": [
       "0"
      ]
     },
     "execution_count": 49,
     "metadata": {},
     "output_type": "execute_result"
    }
   ],
   "source": [
    "data_en.isna().sum().sum()"
   ]
  },
  {
   "cell_type": "code",
   "execution_count": 50,
   "metadata": {},
   "outputs": [],
   "source": [
    "X = data_en.drop(columns=['loan_status'])\n",
    "X.reset_index(inplace=True, drop=True)\n",
    "y = data_en['loan_status']\n",
    "y.reset_index(drop=True, inplace=True)"
   ]
  },
  {
   "cell_type": "code",
   "execution_count": 51,
   "metadata": {},
   "outputs": [],
   "source": [
    "y= data_en['loan_status']\n",
    "data_en.drop(columns='loan_status', axis=1, inplace = True)\n",
    "X = data_en"
   ]
  },
  {
   "cell_type": "markdown",
   "metadata": {},
   "source": [
    "## Logistic Regression Modelling"
   ]
  },
  {
   "cell_type": "code",
   "execution_count": 52,
   "metadata": {},
   "outputs": [
    {
     "data": {
      "text/plain": [
       "(239144, 57)"
      ]
     },
     "execution_count": 52,
     "metadata": {},
     "output_type": "execute_result"
    }
   ],
   "source": [
    "#Splitting data to test and train data\n",
    "\n",
    "X_train, X_test, y_train, y_test = train_test_split(X, y, test_size=0.2, random_state=1)\n",
    "\n",
    "X_train.shape"
   ]
  },
  {
   "cell_type": "code",
   "execution_count": 58,
   "metadata": {},
   "outputs": [],
   "source": [
    "#Scaling data using minmax scaler\n",
    "\n",
    "scaler = MinMaxScaler()\n",
    "X_train = pd.DataFrame(scaler.fit_transform(X_train), columns=X_train.columns)\n",
    "\n",
    "import pickle\n",
    "with open('scaler_object.pickle','wb') as file:\n",
    "    pickle.dump(scaler,file)\n",
    "\n",
    "X_test = pd.DataFrame(scaler.transform(X_test), columns=X_test.columns)"
   ]
  },
  {
   "cell_type": "markdown",
   "metadata": {},
   "source": [
    "SMOTE, or Synthetic Minority Oversampling Technique, is a technique used in machine learning to address the issue of class imbalance in datasets. Class imbalance occurs when one class (the minority class) has significantly fewer instances compared to other classes (the majority class). \n",
    "SMOTE addresses class imbalance by oversampling the minority class. However, unlike simple oversampling (which simply duplicates existing minority class examples), SMOTE generates synthetic data points for the minority class."
   ]
  },
  {
   "cell_type": "code",
   "execution_count": 54,
   "metadata": {},
   "outputs": [
    {
     "name": "stdout",
     "output_type": "stream",
     "text": [
      "Before OverSampling, count of label 1: 46054\n",
      "Before OverSampling, count of label 0: 193090\n",
      "After OverSampling, count of label 1: 193090\n",
      "After OverSampling, count of label 0: 193090\n"
     ]
    }
   ],
   "source": [
    "# Oversampling to balance the target variable\n",
    "\n",
    "sm=SMOTE(random_state=42)\n",
    "x_train_res, y_train_res = sm.fit_resample(X_train,y_train.ravel())\n",
    "\n",
    "print(f\"Before OverSampling, count of label 1: {sum(y_train == 1)}\")\n",
    "print(f\"Before OverSampling, count of label 0: {sum(y_train == 0)}\")\n",
    "print(f\"After OverSampling, count of label 1: {sum(y_train_res == 1)}\")\n",
    "print(f\"After OverSampling, count of label 0: {sum(y_train_res == 0)}\")"
   ]
  },
  {
   "cell_type": "code",
   "execution_count": 59,
   "metadata": {},
   "outputs": [
    {
     "name": "stdout",
     "output_type": "stream",
     "text": [
      "Train Accuracy : 0.81\n",
      "Train F1 Score: 0.12\n",
      "Train Recall Score: 0.07\n",
      "Train Precision Score: 0.53\n",
      "\n",
      "Test Accuracy : 0.81\n",
      "Test F1 Score: 0.12\n",
      "Test Recall Score: 0.07\n",
      "Test Precision Score: 0.51\n"
     ]
    },
    {
     "data": {
      "image/png": "[encoded data removed]",
      "text/plain": [
       "<Figure size 432x288 with 2 Axes>"
      ]
     },
     "metadata": {},
     "output_type": "display_data"
    }
   ],
   "source": [
    "model = LogisticRegression()\n",
    "model.fit(X_train, y_train)\n",
    "train_preds = model.predict(X_train)\n",
    "test_preds = model.predict(X_test)\n",
    "\n",
    "import pickle\n",
    "with open('log_ress_model.pickle','wb') as file:\n",
    "    pickle.dump(model,file)\n",
    "\n",
    "#Model Evaluation\n",
    "print('Train Accuracy :', model.score(X_train, y_train).round(2))\n",
    "print('Train F1 Score:',f1_score(y_train,train_preds).round(2))\n",
    "print('Train Recall Score:',recall_score(y_train,train_preds).round(2))\n",
    "print('Train Precision Score:',precision_score(y_train,train_preds).round(2))\n",
    "\n",
    "print('\\nTest Accuracy :',model.score(X_test,y_test).round(2))\n",
    "print('Test F1 Score:',f1_score(y_test,test_preds).round(2))\n",
    "print('Test Recall Score:',recall_score(y_test,test_preds).round(2))\n",
    "print('Test Precision Score:',precision_score(y_test,test_preds).round(2))\n",
    "\n",
    "# Confusion Matrix\n",
    "cm = confusion_matrix(y_test, test_preds)\n",
    "disp = ConfusionMatrixDisplay(cm)\n",
    "disp.plot()\n",
    "plt.title('Confusion Matrix')\n",
    "plt.show()"
   ]
  },
  {
   "cell_type": "code",
   "execution_count": null,
   "metadata": {},
   "outputs": [
    {
     "name": "stdout",
     "output_type": "stream",
     "text": [
      "              precision    recall  f1-score   support\n",
      "\n",
      "         0.0       0.82      0.98      0.89     48388\n",
      "         1.0       0.51      0.07      0.12     11399\n",
      "\n",
      "    accuracy                           0.81     59787\n",
      "   macro avg       0.66      0.53      0.51     59787\n",
      "weighted avg       0.76      0.81      0.75     59787\n",
      "\n"
     ]
    }
   ],
   "source": [
    "print(classification_report(y_test, test_preds))"
   ]
  },
  {
   "cell_type": "code",
   "execution_count": null,
   "metadata": {},
   "outputs": [
    {
     "name": "stdout",
     "output_type": "stream",
     "text": [
      "Model Coefficents:\n",
      " ---------------\n",
      "loan_amnt : -0.006\n",
      "term : 0.582\n",
      "int_rate : 2.125\n",
      "installment : 0.466\n",
      "annual_inc : -1.14\n",
      "dti : 1.036\n",
      "open_acc : 0.643\n",
      "pub_rec : 0.276\n",
      "revol_bal : -0.499\n",
      "revol_util : 0.45\n",
      "total_acc : -0.553\n",
      "initial_list_status : -0.034\n",
      "mort_acc : -0.231\n",
      "pub_rec_bankruptcies : -0.253\n",
      "grade_A : -0.159\n",
      "grade_B : -0.147\n",
      "grade_C : -0.168\n",
      "grade_D : -0.147\n",
      "grade_E : -0.145\n",
      "grade_F : -0.139\n",
      "grade_G : -0.217\n",
      "home_ownership_ANY : -0.039\n",
      "home_ownership_MORTGAGE : -0.276\n",
      "home_ownership_NONE : 0.035\n",
      "home_ownership_OTHER : -0.32\n",
      "home_ownership_OWN : -0.267\n",
      "home_ownership_RENT : -0.255\n",
      "verification_status_Not Verified : -0.358\n",
      "verification_status_Source Verified : -0.391\n",
      "verification_status_Verified : -0.373\n",
      "purpose_car : -0.039\n",
      "purpose_credit_card : -0.047\n",
      "purpose_debt_consolidation : -0.058\n",
      "purpose_educational : -0.081\n",
      "purpose_home_improvement : -0.081\n",
      "purpose_house : -0.008\n",
      "purpose_major_purchase : -0.063\n",
      "purpose_medical : -0.016\n",
      "purpose_moving : -0.178\n",
      "purpose_other : -0.103\n",
      "purpose_renewable_energy : -0.105\n",
      "purpose_small_business : -0.103\n",
      "purpose_vacation : -0.079\n",
      "purpose_wedding : -0.163\n",
      "application_type_DIRECT_PAY : -0.102\n",
      "application_type_INDIVIDUAL : -0.628\n",
      "application_type_JOINT : -0.392\n",
      "zip_code_00813 : -0.124\n",
      "zip_code_05113 : -0.111\n",
      "zip_code_11650 : -0.086\n",
      "zip_code_22690 : -0.103\n",
      "zip_code_29597 : -0.11\n",
      "zip_code_30723 : -0.132\n",
      "zip_code_48052 : -0.092\n",
      "zip_code_70466 : -0.133\n",
      "zip_code_86630 : -0.073\n",
      "zip_code_93700 : -0.158\n"
     ]
    }
   ],
   "source": [
    "print(\"Model Coefficents:\\n\",'-'*15)\n",
    "for i,col in enumerate(data_en.columns):\n",
    "    print(col,\":\",round(model.coef_[0][i],3))\n"
   ]
  },
  {
   "cell_type": "code",
   "execution_count": null,
   "metadata": {},
   "outputs": [
    {
     "name": "stdout",
     "output_type": "stream",
     "text": [
      "model intercept:  [-1.21717848]\n"
     ]
    }
   ],
   "source": [
    "print(\"model intercept: \", model.intercept_)"
   ]
  },
  {
   "cell_type": "markdown",
   "metadata": {},
   "source": [
    "## Feature Importance"
   ]
  },
  {
   "cell_type": "code",
   "execution_count": null,
   "metadata": {},
   "outputs": [
    {
     "data": {
      "image/png": "[encoded data removed]",
      "text/plain": [
       "<Figure size 576x576 with 1 Axes>"
      ]
     },
     "metadata": {},
     "output_type": "display_data"
    }
   ],
   "source": [
    "feature_imp = pd.DataFrame({'Columns':X_train.columns, 'Coefficients':model.coef_[0]}).round(2).sort_values('Coefficients', ascending=False)\n",
    "\n",
    "plt.figure(figsize=(8,8))\n",
    "sns.barplot(y = feature_imp['Columns'],\n",
    "           x =  feature_imp['Coefficients'])\n",
    "plt.title(\"Feature Importance for Model\")\n",
    "plt.yticks(fontsize=8)\n",
    "plt.ylabel(\"Feature\")\n",
    "plt.tight_layout()\n",
    "plt.show()"
   ]
  },
  {
   "cell_type": "markdown",
   "metadata": {},
   "source": [
    "## ROC Curve & AUC"
   ]
  },
  {
   "cell_type": "markdown",
   "metadata": {},
   "source": [
    "ROC AUC stands for Receiver Operating Characteristic Area Under the Curve. \n",
    "\n",
    "ROC AUC score is a single number that summarizes the classifier's performance across all possible classification thresholds.\n",
    "\n",
    "ROC AUC score shows how well the classifier distinguishes positive and negative classes. It can take values from 0 to 1.\n",
    "\n",
    "A higher ROC AUC indicates better performance. A perfect model would have an AUC of 1, while a random model would have an AUC of 0.5."
   ]
  },
  {
   "cell_type": "code",
   "execution_count": null,
   "metadata": {},
   "outputs": [
    {
     "data": {
      "image/png": "[encoded data removed]",
      "text/plain": [
       "<Figure size 432x288 with 1 Axes>"
      ]
     },
     "metadata": {},
     "output_type": "display_data"
    }
   ],
   "source": [
    "# Predict probabilities for the test set\n",
    "probs = model.predict_proba(X_test)[:,1]\n",
    "\n",
    "# Compute the false positive rate, true positive rate, and thresholds\n",
    "fpr, tpr, thresholds = roc_curve(y_test, probs)\n",
    "\n",
    "# Compute the area under the ROC curve\n",
    "roc_auc = auc(fpr, tpr)\n",
    "\n",
    "# Plot the ROC curve\n",
    "plt.figure()\n",
    "plt.plot(fpr, tpr, color='darkorange', lw=2, label='ROC curve (area = %0.2f)' % roc_auc)\n",
    "plt.plot([0, 1], [0, 1], color='navy', lw=2, linestyle='--')\n",
    "plt.xlim([0.0, 1.0])\n",
    "plt.ylim([0.0, 1.05])\n",
    "plt.xlabel('False Positive Rate')\n",
    "plt.ylabel('True Positive Rate')\n",
    "plt.title('Receiver Operating Characteristic')\n",
    "plt.legend(loc=\"lower right\")\n",
    "plt.show()"
   ]
  },
  {
   "cell_type": "markdown",
   "metadata": {},
   "source": [
    "Insights:\n",
    "    \n",
    "    Model has area under ROC 70% which indicates it as a decent model, however the score can be improved by \n",
    "    hyperparameter tunning and training a better model."
   ]
  },
  {
   "cell_type": "code",
   "execution_count": null,
   "metadata": {},
   "outputs": [
    {
     "data": {
      "image/png": "[encoded data removed]",
      "text/plain": [
       "<Figure size 432x288 with 1 Axes>"
      ]
     },
     "metadata": {},
     "output_type": "display_data"
    }
   ],
   "source": [
    "# Compute the false precision and recall at all thresholds\n",
    "precision, recall, thresholds = precision_recall_curve(y_test, probs)\n",
    "\n",
    "# Area under Precision Recall Curve\n",
    "auprc = average_precision_score(y_test, probs)\n",
    "\n",
    "# Plot the precision-recall curve\n",
    "plt.plot(recall, precision, marker='.', label='PR curve (area = %0.2f)' % auprc)\n",
    "plt.xlabel('Recall')\n",
    "plt.ylabel('Precision')\n",
    "plt.title('Precision-Recall Curve')\n",
    "plt.legend(loc=\"lower left\")\n",
    "plt.show()"
   ]
  },
  {
   "cell_type": "markdown",
   "metadata": {},
   "source": [
    "Insights:\n",
    "    \n",
    "    Precision-recall area is 0.35 which means its not a good value and there is a lot of scope for improvement in the model."
   ]
  },
  {
   "cell_type": "markdown",
   "metadata": {},
   "source": [
    "## Tradeoff Questions:"
   ]
  },
  {
   "cell_type": "markdown",
   "metadata": {},
   "source": [
    "#### How can we make sure that our model can detect real defaulters and there are less false positives? This is important as we can lose out on an opportunity to finance more individuals and earn interest on it ?"
   ]
  },
  {
   "cell_type": "markdown",
   "metadata": {},
   "source": [
    "An oversampling technique SMOTE is used to reduce imbalance and false positives in the data.\n",
    "For better performance of the model we can try various hyperparameter tunning."
   ]
  },
  {
   "cell_type": "markdown",
   "metadata": {},
   "source": [
    "#### Since NPA (non-performing asset) is a real problem in this industry, it’s important we play safe and shouldn’t disburse loans to anyone ?"
   ]
  },
  {
   "cell_type": "markdown",
   "metadata": {},
   "source": [
    "Yes. LoanTap should not disburse loans to everyone.\n",
    "\n",
    "There are many non-verified customers in the data. Every customer applying for loan should be verified \n",
    "either by company internally or by a third-party to identify the correct persons. \n",
    "\n",
    "From data provided, 20% of people default on their loan, which inturn become NPAs for the company."
   ]
  },
  {
   "cell_type": "code",
   "execution_count": null,
   "metadata": {},
   "outputs": [],
   "source": []
  }
 ],
 "metadata": {
  "kernelspec": {
   "display_name": "Python 3",
   "language": "python",
   "name": "python3"
  },
  "language_info": {
   "codemirror_mode": {
    "name": "ipython",
    "version": 3
   },
   "file_extension": ".py",
   "mimetype": "text/x-python",
   "name": "python",
   "nbconvert_exporter": "python",
   "pygments_lexer": "ipython3",
   "version": "3.8.5"
  }
 },
 "nbformat": 4,
 "nbformat_minor": 4
}
